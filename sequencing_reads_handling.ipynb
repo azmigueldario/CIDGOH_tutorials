{
 "cells": [
  {
   "cell_type": "markdown",
   "id": "354ca6e6-eb53-4957-b4da-b6a7f2040991",
   "metadata": {},
   "source": [
    "# Handling of sequencing reads"
   ]
  },
  {
   "cell_type": "markdown",
   "id": "3447a239-25e7-4b7f-80ee-943955ae1d63",
   "metadata": {
    "tags": []
   },
   "source": [
    "## Required tools\n",
    "\n",
    "Reads are typically available in [fastq](https://en.wikipedia.org/wiki/FASTQ_format) format after conducting sequencing experiments (Illumina, Nanopore, PacBio).\n",
    "\n",
    "Our analysis will be done in the **Compute Canada (CC)** cluster of analysis. To login into the cluster, follow the instructions available in the [wiki page for new users](https://docs.alliancecan.ca/wiki/SSH). \n",
    "\n",
    "In the **CC cluster**, there are several tools available for analysis and they can each be installed using the command `module load tool/v.XX`.\n",
    "\n",
    "For this tutorials, tools will be made available using singularity containers, which can be run using the command `singularity run tool_image`. These tools have been made available in the environment already, so there is no need to download them.\n",
    "\n",
    "Tools used in this tutorial:\n",
    "- seqkit\n",
    "- fastqc\n",
    "- multiqc\n",
    "\n",
    "We will first explore the structure of our environment and the folders available. The scripts for all tutorials are located in the directory `CIDGOH_tutorials`, the data to be analyzed in `reads_directory`."
   ]
  },
  {
   "cell_type": "code",
   "execution_count": 10,
   "id": "aa8e7199-91e4-42c7-a4ff-6d993e6d1aa8",
   "metadata": {},
   "outputs": [
    {
     "name": "stdout",
     "output_type": "stream",
     "text": [
      "/home/jupyter-mdprieto\n",
      "CIDGOH_tutorials  reads_directory    sequencing_reads_handling.ipynb\n",
      "Untitled.ipynb    results_tutorials  tools\n"
     ]
    }
   ],
   "source": [
    "# change to home directory and print the PATH to it\n",
    "cd | pwd -P\n",
    "\n",
    "# show what is available in home directory\n",
    "ls"
   ]
  },
  {
   "cell_type": "markdown",
   "id": "916d8964-9dc9-4ace-9491-1b7d3c3e0f3f",
   "metadata": {
    "tags": []
   },
   "source": [
    "## Exploring the data\n",
    "\n",
    "Data may be shared through a folder or downloaded from a biorepository and is the result of Illumina sequencing (75bp paired end reads). The initial step must be to make it available for yourself in the cluster. This data was collected as part of an outbreak investigation of multidrug resistant _Pseudomonas aeruginosa_ in Switzerland [PMID:34412676](https://www.ncbi.nlm.nih.gov/pmc/articles/PMC8376114/). To make it faster and easier to run, we selected only 10 sequenced bacterial samples in raw read format. \n",
    "\n",
    "The dataset is available in a shared directory (`reads_directory`) so you can move it to the folder you desire using `cp /home/jupyter-mdprieto/reads_directory/* /path/to/target_directory`."
   ]
  },
  {
   "cell_type": "code",
   "execution_count": 4,
   "id": "e96367ca-ca0d-4e18-b1f1-40bb00ec9aa5",
   "metadata": {},
   "outputs": [
    {
     "ename": "NameError",
     "evalue": "name 'cd' is not defined",
     "output_type": "error",
     "traceback": [
      "\u001b[0;31m---------------------------------------------------------------------------\u001b[0m",
      "\u001b[0;31mNameError\u001b[0m                                 Traceback (most recent call last)",
      "Input \u001b[0;32mIn [4]\u001b[0m, in \u001b[0;36m<cell line: 2>\u001b[0;34m()\u001b[0m\n\u001b[1;32m      1\u001b[0m \u001b[38;5;66;03m# change to reads_directory and show content\u001b[39;00m\n\u001b[0;32m----> 2\u001b[0m \u001b[43mcd\u001b[49m \u001b[38;5;241m/\u001b[39mhome\u001b[38;5;241m/\u001b[39mjupyter\u001b[38;5;241m-\u001b[39mmdprieto\u001b[38;5;241m/\u001b[39mreads_directory \u001b[38;5;241m|\u001b[39m ls\n",
      "\u001b[0;31mNameError\u001b[0m: name 'cd' is not defined"
     ]
    }
   ],
   "source": [
    "# change to reads_directory and show content\n",
    "cd /home/jupyter-mdprieto/reads_directory | ls  "
   ]
  },
  {
   "cell_type": "markdown",
   "id": "0c947fa3-6a3c-4b56-86eb-f3c3b1a07a1d",
   "metadata": {},
   "source": [
    "Also, if the reads are compressed, you could unzip them, although most bioinformatic programs can receive `tar` or `gzip` files as input. "
   ]
  },
  {
   "cell_type": "code",
   "execution_count": null,
   "id": "b03172c7-2ec6-4c4a-94c8-7be5f9212acb",
   "metadata": {},
   "outputs": [],
   "source": [
    "# ------------ if you want to decompress the files\n",
    "#tar -zxf ERR*\n",
    "\n",
    "# list all files in new directory\n",
    "ls /home/jupyter-mdprieto/target_directory/"
   ]
  },
  {
   "cell_type": "markdown",
   "id": "515012ad-749f-4f0f-8db4-a36bba3a0427",
   "metadata": {},
   "source": [
    "The files in our folder have the naming convention `_R1.fastq` or `_R2.fastq`. Because we are using Illumina MiSeq reads, we have pairs of reads per sample and a combination of them represents a single specimen. A similar naming structure is typically used to represent paired end reads (`_1.fastq, _R001.fastq`). More information on the project that provides this data can be found in [Catho et al 2021.](https://pubmed.ncbi.nlm.nih.gov/34412676/)"
   ]
  },
  {
   "cell_type": "markdown",
   "id": "26f3c59f-2d7d-4fd2-81a5-9a21a19a04f8",
   "metadata": {
    "tags": []
   },
   "source": [
    "## Quality control\n",
    "\n",
    "It is a good practice to organize every project/analysis in an individual directory. You can also use github repositories to synchronize all your results and scripts so other researchers can easily reproduce your results. \n",
    "\n",
    "We will create a new directory `results_tutorials` to put all output data from our analysis pipeline. We can create subdirectories for specific parts of our pipeline, like the quality control and the assembly. \n",
    "\n",
    "<font color='darkred'>_**Notes for compute canada:**_ </font>  \n",
    "- Compute Canada provides different directories for storage. Jobs cannot be launched from the *HOME* and *PROJECT* directory or any of its subdirectories. The ideal place to run jobs is the *SCRATCH* folder, where you have short term storage of large amounts of data. \n",
    "- Once you have final results, these should be moved to your *PROJECT* directory as the *SCRATCH* folder is constantly being cleaned"
   ]
  },
  {
   "cell_type": "code",
   "execution_count": 2,
   "id": "f77ddec4-742e-4678-ba62-d23ff92d9f69",
   "metadata": {},
   "outputs": [],
   "source": [
    "# change to home directory \n",
    "!cd \n",
    "\n",
    "# creates new directory for results\n",
    "!mkdir -p results_tutorials/qc"
   ]
  },
  {
   "cell_type": "markdown",
   "id": "a516e6ea-9b42-4e7a-b456-c414ecbe1209",
   "metadata": {
    "jp-MarkdownHeadingCollapsed": true,
    "tags": []
   },
   "source": [
    "Our pipeline for quality control of raw reads includes several steps:"
   ]
  },
  {
   "cell_type": "markdown",
   "id": "a3a6ce3d-9711-43f4-9350-22348740fd87",
   "metadata": {
    "tags": []
   },
   "source": [
    "### 1. Seqkit \n",
    "\n",
    "In the first step, we use the ***seqkit*** tool to obtain basic statistics from the **.fastq** files. The result is a text file that summarizes basic metrics about the quality and length of sequencing reads. "
   ]
  },
  {
   "cell_type": "code",
   "execution_count": 3,
   "id": "cd062d2e-81f5-4c70-bc3c-2963fc60015e",
   "metadata": {},
   "outputs": [
    {
     "name": "stdout",
     "output_type": "stream",
     "text": [
      "/bin/bash: module: command not found\n"
     ]
    }
   ],
   "source": [
    "# load seqkit parent module and seqkit to our computing environment\n",
    "!module load StdEnv/2020 seqkit/2.3.1"
   ]
  },
  {
   "cell_type": "code",
   "execution_count": 14,
   "id": "2731658c-c3bf-4bed-a232-5cf5db7407bf",
   "metadata": {},
   "outputs": [
    {
     "name": "stdout",
     "output_type": "stream",
     "text": [
      "seqkit: command not found\n"
     ]
    },
    {
     "ename": "",
     "evalue": "127",
     "output_type": "error",
     "traceback": []
    }
   ],
   "source": [
    "# create environment variables to avoid typing every time\n",
    "INPUT_DIR=\"/home/jupyter-mdprieto/reads_directory\"\n",
    "OUTPUT_DIR=\"/home/jupyter-mdprieto/results_tutorials/qc\"\n",
    "\n",
    "# run sequence statistics\n",
    "seqkit stats $INPUT_DIR/*.fastq.gz > $OUTPUT_DIR/seqkit_output.tsv"
   ]
  },
  {
   "cell_type": "markdown",
   "id": "52292bc2-79a5-4ee9-9f79-02098ca3b1bd",
   "metadata": {},
   "source": [
    "### 2. fastqc\n",
    "\n",
    "We will use **fastqc**  to create additional metrics of sequencing including nucleotide distribution, presence of repeats, quality of base calling, GC content and adapter content\n",
    "    - A for loop lets me apply a command to every file/read available. In this case to all files with suffix 'fastq' in the INPUT_DIR\n",
    "    - **fastqc** produces an output summary for every file entered\n"
   ]
  },
  {
   "cell_type": "code",
   "execution_count": null,
   "id": "d5c2f653-cd47-4b26-ae67-bd3bccb401c9",
   "metadata": {},
   "outputs": [],
   "source": [
    "# load the tool\n",
    "module load StdEnv/2020 fastqc/0.11.9"
   ]
  },
  {
   "cell_type": "code",
   "execution_count": null,
   "id": "e13ccb4c-61b6-4d0d-bc16-7c4c663d485b",
   "metadata": {},
   "outputs": [],
   "source": [
    "# apply the tool to every fastqc file available \n",
    "for fastq_file in $(ls $INPUT_DIR/*.fastq.gz)\n",
    "do\n",
    "fastqc \\\n",
    "        -o $OUTPUT_DIR \\\n",
    "        -t 9 \\\n",
    "        $fastq_file\n",
    "        # output is saved as individual files in OUTPUT_DIR\n",
    "done"
   ]
  },
  {
   "cell_type": "code",
   "execution_count": 5,
   "id": "56a7f0e9-26d7-4f3b-a6ad-822bdb3c8c09",
   "metadata": {},
   "outputs": [
    {
     "name": "stdout",
     "output_type": "stream",
     "text": [
      "ERR10479510_R1_fastqc.html  ERR10479515_R1_fastqc.zip\n",
      "ERR10479510_R1_fastqc.zip   ERR10479515_R2_fastqc.html\n",
      "ERR10479510_R2_fastqc.html  ERR10479515_R2_fastqc.zip\n",
      "ERR10479510_R2_fastqc.zip   ERR10479516_R1_fastqc.html\n",
      "ERR10479511_R1_fastqc.html  ERR10479516_R1_fastqc.zip\n",
      "ERR10479511_R1_fastqc.zip   ERR10479516_R2_fastqc.html\n",
      "ERR10479511_R2_fastqc.html  ERR10479516_R2_fastqc.zip\n",
      "ERR10479511_R2_fastqc.zip   ERR10479517_R1_fastqc.html\n",
      "ERR10479512_R1_fastqc.html  ERR10479517_R1_fastqc.zip\n",
      "ERR10479512_R1_fastqc.zip   ERR10479517_R2_fastqc.html\n",
      "ERR10479512_R2_fastqc.html  ERR10479517_R2_fastqc.zip\n",
      "ERR10479512_R2_fastqc.zip   ERR10479518_R1_fastqc.html\n",
      "ERR10479513_R1_fastqc.html  ERR10479518_R1_fastqc.zip\n",
      "ERR10479513_R1_fastqc.zip   ERR10479518_R2_fastqc.html\n",
      "ERR10479513_R2_fastqc.html  ERR10479518_R2_fastqc.zip\n",
      "ERR10479513_R2_fastqc.zip   ERR10479519_R1_fastqc.html\n",
      "ERR10479514_R1_fastqc.html  ERR10479519_R1_fastqc.zip\n",
      "ERR10479514_R1_fastqc.zip   ERR10479519_R2_fastqc.html\n",
      "ERR10479514_R2_fastqc.html  ERR10479519_R2_fastqc.zip\n",
      "ERR10479514_R2_fastqc.zip   seqkit_output.tsv\n",
      "ERR10479515_R1_fastqc.html\n"
     ]
    }
   ],
   "source": [
    "# resulting files\n",
    "ls $OUTPUT_DIR"
   ]
  },
  {
   "cell_type": "markdown",
   "id": "a8a2d7e8-1dcd-4e15-9336-e02f8e680cf0",
   "metadata": {},
   "source": [
    "### 3. Trimming reads with BBtools\n",
    "\n",
    "This step may not be necessary at all, as many genome assemblers are able to remove sequencing adapters from the raw reads before trying to produce a complete genome. The process basically removes the contaminant sequences used to amplify the DNA while doing the sequencing experiments. It may also remove sequences of overall poor quality. "
   ]
  },
  {
   "cell_type": "code",
   "execution_count": 6,
   "id": "a3d246bb-cdcd-4529-9e93-af54e1f28702",
   "metadata": {},
   "outputs": [
    {
     "name": "stdout",
     "output_type": "stream",
     "text": [
      "module: command not found\n"
     ]
    },
    {
     "ename": "",
     "evalue": "127",
     "output_type": "error",
     "traceback": []
    }
   ],
   "source": [
    "module load StdEnv/2020 bbmap/38.86"
   ]
  },
  {
   "cell_type": "code",
   "execution_count": 1,
   "id": "a264208d-19e2-4d4c-9cf7-37c67981c135",
   "metadata": {},
   "outputs": [
    {
     "name": "stdout",
     "output_type": "stream",
     "text": [
      "ERR10479510_R1.fastq.gz  ERR10479513_R2.fastq.gz  ERR10479517_R1.fastq.gz\n",
      "ERR10479510_R2.fastq.gz  ERR10479514_R1.fastq.gz  ERR10479517_R2.fastq.gz\n",
      "ERR10479511_R1.fastq.gz  ERR10479514_R2.fastq.gz  ERR10479518_R1.fastq.gz\n",
      "ERR10479511_R2.fastq.gz  ERR10479515_R1.fastq.gz  ERR10479518_R2.fastq.gz\n",
      "ERR10479512_R1.fastq.gz  ERR10479515_R2.fastq.gz  ERR10479519_R1.fastq.gz\n",
      "ERR10479512_R2.fastq.gz  ERR10479516_R1.fastq.gz  ERR10479519_R2.fastq.gz\n",
      "ERR10479513_R1.fastq.gz  ERR10479516_R2.fastq.gz  download_data\n"
     ]
    }
   ],
   "source": [
    "ls reads_directory"
   ]
  },
  {
   "cell_type": "code",
   "execution_count": 8,
   "id": "6d2b4fde-13ab-4686-8d49-c7182b4ea4fe",
   "metadata": {},
   "outputs": [
    {
     "name": "stdout",
     "output_type": "stream",
     "text": [
      "module: command not found\n"
     ]
    },
    {
     "ename": "",
     "evalue": "127",
     "output_type": "error",
     "traceback": []
    }
   ],
   "source": [
    "\n",
    "bbduk.sh in=reads.fq out=clean.fq ref=adapters.fa ktrim=r k=23 mink=11 hdist=1 tpe tbo"
   ]
  },
  {
   "cell_type": "code",
   "execution_count": null,
   "id": "1df834c9-b79e-4995-aa0f-112c5f5cc7b2",
   "metadata": {},
   "outputs": [],
   "source": [
    "3. Finally, another tool (**multiqc**) takes all output summaries of **fastqc** in a directory and creates a nice single HTML output that can be visualized in any web browser."
   ]
  },
  {
   "cell_type": "code",
   "execution_count": null,
   "id": "803fd80c-efc5-4845-9ad1-7148f0075c55",
   "metadata": {},
   "outputs": [],
   "source": []
  },
  {
   "cell_type": "code",
   "execution_count": null,
   "id": "7a2368c0-5882-44a9-b0f6-91522425f187",
   "metadata": {},
   "outputs": [],
   "source": []
  },
  {
   "cell_type": "code",
   "execution_count": null,
   "id": "59a43e78-fc2c-4c2a-99a4-c970997feda8",
   "metadata": {},
   "outputs": [],
   "source": []
  },
  {
   "cell_type": "code",
   "execution_count": null,
   "id": "5e9af9ee-3480-4fe5-a3a4-663bf6517898",
   "metadata": {},
   "outputs": [],
   "source": [
    "# open text editor\n",
    "nano tutorial_seqkit.sh\n",
    "\n",
    "# ------------------------------- write following code inside file\n",
    "\n",
    "#!/bin/bash\n",
    "#SBATCH --account=rrg-whsiao-ab                    # compute canada PI allocation\n",
    "#SBATCH --mem=25gb                                 # 25 GB of memory\n",
    "#SBATCH --time=06:00:00\n",
    "#SBATCH --job-name=\"quality_control\"               # name of job\n",
    "#SBATCH --chdir=/scratch/mdprieto/tutorials        # change to directory before start\n",
    "#SBATCH --cpus-per-task=9\n",
    "export OMP_NUM_THREADS=$SLURM_CPUS_PER_TASK\n",
    "\n",
    "################################ preparation ######################################\n",
    "\n",
    "# load necessary modules\n",
    "module load StdEnv/2020\n",
    "module load nixpkgs/16.09\n",
    "module load fastqc/0.11.9\n",
    "module load python/3.10.2\n",
    "module load seqkit/0.15.0\n",
    "pip install multiqc\n",
    "\n",
    "# create output directory\n",
    "mkdir -p /scratch/mdprieto/tutorials/qc_results\n",
    "\n",
    "# establish path for output and input\n",
    "OUTPUT_DIR=\"/scratch/mdprieto/tutorials/qc_results\"\n",
    "INPUT_DIR=\"/project/6056895/mdprieto/tutorials/fastq_reads\"\n",
    "\n",
    "################################## seqkit #########################################\n",
    "\n",
    "# run seqkit in fastq file and save output in tab separated file\n",
    "seqkit stats $INPUT_DIR/*.fastq.gz > $OUTPUT_DIR/seqkit_output.tsv\n",
    "\n",
    "################################## fastqc #########################################\n",
    "\n",
    "# run fastqc tool for every file in INPUT_DIR\n",
    "for fastq_file in $(ls $INPUT_DIR/*.fastq.gz)\n",
    "do\n",
    "fastqc \\\n",
    "        -o $OUTPUT_DIR \\\n",
    "        -t 9 \\\n",
    "        $fastq_file\n",
    "        # output is saved as individual files in OUTPUT_DIR\n",
    "done\n",
    "\n",
    "################################## multiqc #########################################\n",
    "\n",
    "# move to output dir, multiqc automatically reads all files\n",
    "cd $OUTPUT_DIR\n",
    "multiqc . "
   ]
  },
  {
   "cell_type": "markdown",
   "id": "462e363f-a5c8-4b02-b313-c8e915bb9099",
   "metadata": {},
   "source": [
    "<font color='darkred'>_**Notes for compute canada:**_ </font>  \n",
    "Our pipeline for quality control of raw reads includes several steps:\n",
    "\n",
    "1. We use the ***seqkit*** tool to obtain basic statistics from the **.fastq** files. The module to load **seqkit** is available in CC, so it can be load using `module load`. \n",
    "    - The tool takes `fastq` files as inputs and produces a txt output \n",
    "2. We will use **fastqc** which is also available as a module in ComputeCanada. The tool creates an overall summary of different metrics of sequencing including nucleotide distribution, presence of repeats, quality of base calling, GC content and adapter content\n",
    "    - A for loop lets me apply a command to every file/read available. In this case to all files with suffix 'fastq' in the INPUT_DIR\n",
    "    - **fastqc** produces an output summary for every file entered\n",
    "3. Finally, another tool (**multiqc**) takes all output summaries of **fastqc** in a directory and creates a nice sinfle HTML output that can be visualized in any web browser.\n",
    "    \n",
    "\n",
    "To make it easier to reproduce, we will open a text file with editor `nano` and save the following code."
   ]
  },
  {
   "cell_type": "markdown",
   "id": "353ddaf1-c9e2-4bbd-994a-b3b00a8ca550",
   "metadata": {},
   "source": [
    "## Results\n",
    "\n",
    "In the `qc_results` output directory for the tutorial, we will find individual summaries for **fastqc**, a tab separated file that contains statistics about all the sequencing reads, and an executable `html` file produced by **multiqc**\n",
    "\n",
    "Based on the output of **multiqc**, we can exclude samples that had poor quality of sequencing and maybe explore presence of adapter sequences that need to be trimmed for older assemblers. "
   ]
  }
 ],
 "metadata": {
  "kernelspec": {
   "display_name": "Bash [conda env:root] *",
   "language": "bash",
   "name": "conda-root-bash"
  },
  "language_info": {
   "codemirror_mode": "shell",
   "file_extension": ".sh",
   "mimetype": "text/x-sh",
   "name": "bash"
  }
 },
 "nbformat": 4,
 "nbformat_minor": 5
}
