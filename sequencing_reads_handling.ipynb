{
 "cells": [
  {
   "cell_type": "markdown",
   "id": "354ca6e6-eb53-4957-b4da-b6a7f2040991",
   "metadata": {},
   "source": [
    "# Handling of sequencing reads"
   ]
  },
  {
   "cell_type": "markdown",
   "id": "3447a239-25e7-4b7f-80ee-943955ae1d63",
   "metadata": {
    "tags": []
   },
   "source": [
    "## Required tools\n",
    "\n",
    "Reads are typically available in [fastq](https://en.wikipedia.org/wiki/FASTQ_format) format after conducting sequencing experiments (Illumina, Nanopore, PacBio).\n",
    "\n",
    "Our analysis will be done in the **Compute Canada (CC)** cluster of analysis. To login into the cluster, follow the instructions available in the [wiki page for new users](https://docs.alliancecan.ca/wiki/SSH). \n",
    "\n",
    "In the **CC cluster**, there are several tools available for analysis and they can each be installed using the command `module load tool/v.XX`.\n",
    "\n",
    "For this tutorials, tools will be made available using singularity containers, which can be run using the command `singularity run tool_image`. These tools have been made available in the environment already, so there is no need to download them.\n",
    "\n",
    "Tools used in this tutorial:\n",
    "- seqkit\n",
    "- fastqc\n",
    "- multiqc\n",
    "\n",
    "We will first explore the structure of our environment and the folders available. It is good practice to assign a directory (`tutorials`) to every project. Inside this main directory, we will create subdirectories with results of every step of our genomic analysis."
   ]
  },
  {
   "cell_type": "code",
   "execution_count": 14,
   "id": "aa8e7199-91e4-42c7-a4ff-6d993e6d1aa8",
   "metadata": {},
   "outputs": [
    {
     "name": "stdout",
     "output_type": "stream",
     "text": [
      "/home/jupyter-mdprieto\n",
      "\u001b[0m\u001b[01;34mreads_directory\u001b[0m  \u001b[01;34mresults_tutorials\u001b[0m  \u001b[01;34mtrimmed_reads\u001b[0m\n",
      "For improved speed, add 'usejni=t' to the command line of BBMap tools which support the use of the compiled jni C code.\n"
     ]
    }
   ],
   "source": [
    "# change to home directory and print the PATH to it\n",
    "cd | pwd -P\n",
    "\n",
    "# show what is available in home directory\n",
    "ls tutorials\n",
    "\n",
    "# source PATH to use module function\n",
    "source /cvmfs/soft.computecanada.ca/config/profile/bash.sh"
   ]
  },
  {
   "cell_type": "markdown",
   "id": "916d8964-9dc9-4ace-9491-1b7d3c3e0f3f",
   "metadata": {
    "tags": []
   },
   "source": [
    "## Exploring the data\n",
    "\n",
    "Datasets for this tutorial are availablein a shared folder inside the `tutorials` directory called `raw_reads`. These sequences were downloaded from a biorepository and were produced by Illumina sequencing (75bp paired end reads). This data was collected as part of an outbreak investigation of multidrug resistant _Pseudomonas aeruginosa_ in Switzerland [PMID:34412676](https://www.ncbi.nlm.nih.gov/pmc/articles/PMC8376114/). To make it faster and easier to run, we selected only 10 sequenced bacterial samples in raw read format `fastq`. \n",
    "\n",
    "The dataset is available in a shared directory (`raw_reads`) so you can move it to the folder you desire using `cp /home/jupyter-mdprieto/reads_directory/* /path/to/target_directory`."
   ]
  },
  {
   "cell_type": "code",
   "execution_count": 17,
   "id": "e96367ca-ca0d-4e18-b1f1-40bb00ec9aa5",
   "metadata": {},
   "outputs": [
    {
     "name": "stdout",
     "output_type": "stream",
     "text": [
      "ERR10479510_R1.fastq.gz  ERR10479513_R2.fastq.gz  ERR10479517_R1.fastq.gz\n",
      "ERR10479510_R2.fastq.gz  ERR10479514_R1.fastq.gz  ERR10479517_R2.fastq.gz\n",
      "ERR10479511_R1.fastq.gz  ERR10479514_R2.fastq.gz  ERR10479518_R1.fastq.gz\n",
      "ERR10479511_R2.fastq.gz  ERR10479515_R1.fastq.gz  ERR10479518_R2.fastq.gz\n",
      "ERR10479512_R1.fastq.gz  ERR10479515_R2.fastq.gz  ERR10479519_R1.fastq.gz\n",
      "ERR10479512_R2.fastq.gz  ERR10479516_R1.fastq.gz  ERR10479519_R2.fastq.gz\n",
      "ERR10479513_R1.fastq.gz  ERR10479516_R2.fastq.gz\n"
     ]
    }
   ],
   "source": [
    "# show content of raw_reads directory\n",
    "ls /home/jupyter-mdprieto/tutorials/raw_reads"
   ]
  },
  {
   "cell_type": "markdown",
   "id": "0c947fa3-6a3c-4b56-86eb-f3c3b1a07a1d",
   "metadata": {},
   "source": [
    "Also, if the reads are compressed, you could unzip them, although most bioinformatic programs can receive `tar` or `gzip` files as input. "
   ]
  },
  {
   "cell_type": "code",
   "execution_count": null,
   "id": "b03172c7-2ec6-4c4a-94c8-7be5f9212acb",
   "metadata": {},
   "outputs": [],
   "source": [
    "# ------------ if you want to decompress the files\n",
    "#tar -zxf ERR*"
   ]
  },
  {
   "cell_type": "markdown",
   "id": "515012ad-749f-4f0f-8db4-a36bba3a0427",
   "metadata": {},
   "source": [
    "The files in our folder have the naming convention `_R1.fastq` or `_R2.fastq`. Because we are using Illumina MiSeq reads, we have pairs of reads per sample and a combination of them represents a single specimen. A similar naming structure is typically used to represent paired end reads (`_1.fastq, _R001.fastq`). More information on the project that provides this data can be found in [Catho et al 2021.](https://pubmed.ncbi.nlm.nih.gov/34412676/)"
   ]
  },
  {
   "cell_type": "markdown",
   "id": "26f3c59f-2d7d-4fd2-81a5-9a21a19a04f8",
   "metadata": {
    "tags": []
   },
   "source": [
    "## Quality control\n",
    "\n",
    "It is a good practice to organize results in their own directory so you can trace back your analysis steps. You can also use github repositories to synchronize all your results and scripts so other researchers can easily reproduce your results. \n",
    "\n",
    "We will create a new directory `results_qc` to put all output data from this analysis pipeline. We can create subdirectories for specific parts of our pipeline if we want. \n",
    "\n",
    "<font color='darkred'>_**Notes for compute canada:**_ </font>  \n",
    "- Compute Canada provides different directories for storage. Jobs cannot be launched from the *HOME* and *PROJECT* directory or any of its subdirectories. The ideal place to run jobs is the *SCRATCH* folder, where you have short term storage of large amounts of data. \n",
    "- Once you have final results, these should be moved to your *PROJECT* directory as the *SCRATCH* folder is constantly being cleaned"
   ]
  },
  {
   "cell_type": "code",
   "execution_count": 18,
   "id": "f77ddec4-742e-4678-ba62-d23ff92d9f69",
   "metadata": {},
   "outputs": [],
   "source": [
    "# creates new directory for results of QC \n",
    "mkdir -p /home/jupyter-mdprieto/tutorials/results_qc"
   ]
  },
  {
   "cell_type": "markdown",
   "id": "a516e6ea-9b42-4e7a-b456-c414ecbe1209",
   "metadata": {
    "jp-MarkdownHeadingCollapsed": true,
    "tags": []
   },
   "source": [
    "Our pipeline for quality control of raw reads includes several steps:"
   ]
  },
  {
   "cell_type": "markdown",
   "id": "a3a6ce3d-9711-43f4-9350-22348740fd87",
   "metadata": {
    "tags": []
   },
   "source": [
    "### 1. Seqkit \n",
    "\n",
    "In the first step, we use the ***seqkit*** tool to obtain basic statistics from the **.fastq** files. The result is a text file that summarizes basic metrics about the quality and length of sequencing reads. "
   ]
  },
  {
   "cell_type": "code",
   "execution_count": 19,
   "id": "cd062d2e-81f5-4c70-bc3c-2963fc60015e",
   "metadata": {},
   "outputs": [
    {
     "name": "stdout",
     "output_type": "stream",
     "text": [
      "For improved speed, add 'usejni=t' to the command line of BBMap tools which support the use of the compiled jni C code.\n"
     ]
    }
   ],
   "source": [
    "# load seqkit parent module and seqkit to our computing environment\n",
    "module load StdEnv/2020 seqkit/2.3.1"
   ]
  },
  {
   "cell_type": "code",
   "execution_count": 3,
   "id": "2731658c-c3bf-4bed-a232-5cf5db7407bf",
   "metadata": {},
   "outputs": [],
   "source": [
    "# create environment variables to avoid typing PATHs every time\n",
    "INPUT_DIR=\"/home/jupyter-mdprieto/tutorials/raw_reads\"\n",
    "OUTPUT_QC=\"/home/jupyter-mdprieto/tutorials/results_qc\""
   ]
  },
  {
   "cell_type": "markdown",
   "id": "57581ffd-9b41-4467-8a5e-37c3e856a462",
   "metadata": {},
   "source": [
    "We can quickly check the results of the `seqkit` command. We see that the text file summarizes the "
   ]
  },
  {
   "cell_type": "code",
   "execution_count": 23,
   "id": "a2104d57-6c43-4b81-b9b3-4befd047c623",
   "metadata": {},
   "outputs": [
    {
     "name": "stdout",
     "output_type": "stream",
     "text": [
      "file                                                                format  type   num_seqs      sum_len  min_len  avg_len  max_len\n",
      "/home/jupyter-mdprieto/tutorials/raw_reads/ERR10479510_R1.fastq.gz  FASTQ   DNA   1,673,279  386,900,145       35    231.2      251\n",
      "/home/jupyter-mdprieto/tutorials/raw_reads/ERR10479510_R2.fastq.gz  FASTQ   DNA   1,673,279  387,923,954       35    231.8      251\n",
      "/home/jupyter-mdprieto/tutorials/raw_reads/ERR10479511_R1.fastq.gz  FASTQ   DNA   1,344,257  305,517,801       35    227.3      251\n",
      "/home/jupyter-mdprieto/tutorials/raw_reads/ERR10479511_R2.fastq.gz  FASTQ   DNA   1,344,257  307,892,897       35      229      251\n",
      "/home/jupyter-mdprieto/tutorials/raw_reads/ERR10479512_R1.fastq.gz  FASTQ   DNA   2,091,662  453,818,911       35      217      251\n",
      "/home/jupyter-mdprieto/tutorials/raw_reads/ERR10479512_R2.fastq.gz  FASTQ   DNA   2,091,662  458,746,957       35    219.3      251\n",
      "/home/jupyter-mdprieto/tutorials/raw_reads/ERR10479513_R1.fastq.gz  FASTQ   DNA   1,760,582  401,372,696       35      228      251\n",
      "/home/jupyter-mdprieto/tutorials/raw_reads/ERR10479513_R2.fastq.gz  FASTQ   DNA   1,760,582  404,562,534       35    229.8      251\n",
      "/home/jupyter-mdprieto/tutorials/raw_reads/ERR10479514_R1.fastq.gz  FASTQ   DNA   1,451,481  307,147,920       35    211.6      251\n"
     ]
    }
   ],
   "source": [
    "# run sequence statistics\n",
    "seqkit stats $INPUT_DIR/*.fastq.gz > $OUTPUT_QC/seqkit_output.tsv\n",
    "\n",
    "# check results\n",
    "head $OUTPUT_QC/seqkit_output.tsv"
   ]
  },
  {
   "cell_type": "markdown",
   "id": "52292bc2-79a5-4ee9-9f79-02098ca3b1bd",
   "metadata": {},
   "source": [
    "### 2. fastqc\n",
    "\n",
    "We will use **fastqc**  to create additional metrics of sequencing including nucleotide distribution, presence of repeats, quality of base calling, GC content and adapter content  \n",
    "- I input all the files that have the suffix 'fastq.gz' from our reads directory and specify that 5 files will be processed simultaneously (-t 5). The processing should take around 3 minutes for this set of 10 samples. \n",
    "- **fastqc** produces an output summary in `zip` and `html` formats for every file entered\n"
   ]
  },
  {
   "cell_type": "code",
   "execution_count": 24,
   "id": "d5c2f653-cd47-4b26-ae67-bd3bccb401c9",
   "metadata": {},
   "outputs": [
    {
     "name": "stdout",
     "output_type": "stream",
     "text": [
      "For improved speed, add 'usejni=t' to the command line of BBMap tools which support the use of the compiled jni C code.\n"
     ]
    }
   ],
   "source": [
    "# load the tool\n",
    "module load StdEnv/2020 fastqc/0.11.9"
   ]
  },
  {
   "cell_type": "code",
   "execution_count": 25,
   "id": "1090a0b3-3c4f-47a0-84d1-0cdffb17e345",
   "metadata": {},
   "outputs": [
    {
     "name": "stdout",
     "output_type": "stream",
     "text": [
      "Picked up JAVA_TOOL_OPTIONS: -Xmx2g\n"
     ]
    }
   ],
   "source": [
    "fastqc $INPUT_DIR/*.fastq.gz \\\n",
    "    -o $OUTPUT_QC \\\n",
    "    -t 9 \\\n",
    "    --quiet\n",
    "    # output is saved as individual files in OUTPUT_DIR"
   ]
  },
  {
   "cell_type": "code",
   "execution_count": 11,
   "id": "56a7f0e9-26d7-4f3b-a6ad-822bdb3c8c09",
   "metadata": {},
   "outputs": [
    {
     "name": "stdout",
     "output_type": "stream",
     "text": [
      "ERR10479510_R1_fastqc.html\n",
      "ERR10479510_R1_fastqc.zip\n",
      "ERR10479510_R2_fastqc.html\n",
      "ERR10479510_R2_fastqc.zip\n",
      "ERR10479511_R1_fastqc.html\n",
      "ERR10479511_R1_fastqc.zip\n",
      "ERR10479511_R2_fastqc.html\n",
      "ERR10479511_R2_fastqc.zip\n",
      "ERR10479512_R1_fastqc.html\n",
      "ERR10479512_R1_fastqc.zip\n"
     ]
    }
   ],
   "source": [
    "# resulting files\n",
    "ls $OUTPUT_QC | head "
   ]
  },
  {
   "cell_type": "markdown",
   "id": "a8a2d7e8-1dcd-4e15-9336-e02f8e680cf0",
   "metadata": {},
   "source": [
    "### 3. Trimming reads with BBtools\n",
    "\n",
    "This step may not be necessary at all, as many genome assemblers are able to remove sequencing adapters from the raw reads before trying to produce a complete genome. In this step we remove the contaminant sequences (adapters) used to amplify the DNA while doing the sequencing experiments; we also remove any reads with poor quality over a moving window of 21 basepairs."
   ]
  },
  {
   "cell_type": "code",
   "execution_count": 3,
   "id": "a3d246bb-cdcd-4529-9e93-af54e1f28702",
   "metadata": {},
   "outputs": [
    {
     "name": "stdout",
     "output_type": "stream",
     "text": [
      "For improved speed, add 'usejni=t' to the command line of BBMap tools which support the use of the compiled jni C code.\n",
      "\n",
      "The following have been reloaded with a version change:\n",
      "  1) StdEnv/2016.4 => StdEnv/2020           4) intel/2016.4 => intel/2020.1.217\n",
      "  2) gcccore/.5.4.0 => gcccore/.9.3.0       5) mii/1.1.1 => mii/1.1.2\n",
      "  3) imkl/11.3.4.258 => imkl/2020.1.217     6) openmpi/2.1.1 => openmpi/4.0.3\n",
      "\n"
     ]
    }
   ],
   "source": [
    "module load StdEnv/2020 bbmap/38.86"
   ]
  },
  {
   "cell_type": "markdown",
   "id": "f175453f-f02b-4295-8bb7-c006a5f55b75",
   "metadata": {},
   "source": [
    "The tool includes a text file with commonly used adaptor sequences for Illumina platform. We use this sequences in fasta format as a reference to match and clean our reads. The command we use is `bbduk.sh` and we add several options:\n",
    "\n",
    "- Specify PATHs to adapter sequences file and to output directory for trimmed reads\n",
    "- `k=23` specifies the size of the moving window for quality control of reads\n",
    "- `qtrim=6` removes regions with a score of quality below 6\n"
   ]
  },
  {
   "cell_type": "code",
   "execution_count": 28,
   "id": "a264208d-19e2-4d4c-9cf7-37c67981c135",
   "metadata": {},
   "outputs": [
    {
     "name": "stdout",
     "output_type": "stream",
     "text": [
      "java -ea -Xmx36987m -Xms36987m -cp /cvmfs/soft.computecanada.ca/easybuild/software/2020/Core/bbmap/38.86/current/ jgi.BBDuk in1=/home/jupyter-mdprieto/tutorials/raw_reads/ERR10479510_R1.fastq.gz in2=/home/jupyter-mdprieto/tutorials/raw_reads/ERR10479510_R2.fastq.gz out1=/home/jupyter-mdprieto/tutorials/trimmed_reads/ERR10479510_R1.fastq.gz out2=/home/jupyter-mdprieto/tutorials/trimmed_reads/ERR10479510_R2.fastq.gz ref=/cvmfs/soft.computecanada.ca/easybuild/software/2020/Core/bbmap/38.86/resources/adapters.fa k=23 trimq=6 tpe tbo threads=9\n",
      "Picked up JAVA_TOOL_OPTIONS: -Xmx2g\n",
      "Executing jgi.BBDuk [in1=/home/jupyter-mdprieto/tutorials/raw_reads/ERR10479510_R1.fastq.gz, in2=/home/jupyter-mdprieto/tutorials/raw_reads/ERR10479510_R2.fastq.gz, out1=/home/jupyter-mdprieto/tutorials/trimmed_reads/ERR10479510_R1.fastq.gz, out2=/home/jupyter-mdprieto/tutorials/trimmed_reads/ERR10479510_R2.fastq.gz, ref=/cvmfs/soft.computecanada.ca/easybuild/software/2020/Core/bbmap/38.86/resources/adapters.fa, k=23, trimq=6, tpe, tbo, threads=9]\n",
      "Version 38.86\n",
      "\n",
      "Set threads to 9\n",
      "0.041 seconds.\n",
      "Initial:\n",
      "Memory: max=38788m, total=38788m, free=38744m, used=44m\n",
      "\n",
      "Added 2728 kmers; time: \t0.050 seconds.\n",
      "Memory: max=38788m, total=38788m, free=38671m, used=117m\n",
      "\n",
      "Input is being processed as paired\n",
      "Started output streams:\t0.110 seconds.\n",
      "Processing time:   \t\t18.549 seconds.\n",
      "\n",
      "Input:                  \t3346558 reads \t\t774824099 bases.\n",
      "Contaminants:           \t8886 reads (0.27%) \t1931738 bases (0.25%)\n",
      "Trimmed by overlap:     \t28168 reads (0.84%) \t802233 bases (0.10%)\n",
      "Total Removed:          \t8886 reads (0.27%) \t2733971 bases (0.35%)\n",
      "Result:                 \t3337672 reads (99.73%) \t772090128 bases (99.65%)\n",
      "\n",
      "Time:                         \t18.716 seconds.\n",
      "Reads Processed:       3346k \t178.81k reads/sec\n",
      "Bases Processed:        774m \t41.40m bases/sec\n",
      "java -ea -Xmx37017m -Xms37017m -cp /cvmfs/soft.computecanada.ca/easybuild/software/2020/Core/bbmap/38.86/current/ jgi.BBDuk in1=/home/jupyter-mdprieto/tutorials/raw_reads/ERR10479511_R1.fastq.gz in2=/home/jupyter-mdprieto/tutorials/raw_reads/ERR10479511_R2.fastq.gz out1=/home/jupyter-mdprieto/tutorials/trimmed_reads/ERR10479511_R1.fastq.gz out2=/home/jupyter-mdprieto/tutorials/trimmed_reads/ERR10479511_R2.fastq.gz ref=/cvmfs/soft.computecanada.ca/easybuild/software/2020/Core/bbmap/38.86/resources/adapters.fa k=23 trimq=6 tpe tbo threads=9\n",
      "Picked up JAVA_TOOL_OPTIONS: -Xmx2g\n",
      "Executing jgi.BBDuk [in1=/home/jupyter-mdprieto/tutorials/raw_reads/ERR10479511_R1.fastq.gz, in2=/home/jupyter-mdprieto/tutorials/raw_reads/ERR10479511_R2.fastq.gz, out1=/home/jupyter-mdprieto/tutorials/trimmed_reads/ERR10479511_R1.fastq.gz, out2=/home/jupyter-mdprieto/tutorials/trimmed_reads/ERR10479511_R2.fastq.gz, ref=/cvmfs/soft.computecanada.ca/easybuild/software/2020/Core/bbmap/38.86/resources/adapters.fa, k=23, trimq=6, tpe, tbo, threads=9]\n",
      "Version 38.86\n",
      "\n",
      "Set threads to 9\n",
      "0.041 seconds.\n",
      "Initial:\n",
      "Memory: max=38822m, total=38822m, free=38772m, used=50m\n",
      "\n",
      "Added 2728 kmers; time: \t0.054 seconds.\n",
      "Memory: max=38822m, total=38822m, free=38705m, used=117m\n",
      "\n",
      "Input is being processed as paired\n",
      "Started output streams:\t0.095 seconds.\n",
      "Processing time:   \t\t15.631 seconds.\n",
      "\n",
      "Input:                  \t2688514 reads \t\t613410698 bases.\n",
      "Contaminants:           \t9146 reads (0.34%) \t1994314 bases (0.33%)\n",
      "Trimmed by overlap:     \t30662 reads (1.14%) \t951326 bases (0.16%)\n",
      "Total Removed:          \t9146 reads (0.34%) \t2945640 bases (0.48%)\n",
      "Result:                 \t2679368 reads (99.66%) \t610465058 bases (99.52%)\n",
      "\n",
      "Time:                         \t15.786 seconds.\n",
      "Reads Processed:       2688k \t170.31k reads/sec\n",
      "Bases Processed:        613m \t38.86m bases/sec\n"
     ]
    }
   ],
   "source": [
    "for i in $(ls $INPUT_DIR/*_R1*)\n",
    "do\n",
    "R1=$(basename $i)\n",
    "R2=$(echo $R1 | sed 's/_R1/_R2/')\n",
    "bbduk.sh \\\n",
    "    in1=$INPUT_DIR/$R1 in2=$INPUT_DIR/$R2 \\\n",
    "    out1=$OUTPUT_TRIM/$R1 out2=$OUTPUT_TRIM/$R2 \\\n",
    "    ref=$adapters_file \\\n",
    "    k=23 \\\n",
    "    trimq=6 \\\n",
    "    tpe \\\n",
    "    tbo \\\n",
    "    threads=9\n",
    "done"
   ]
  },
  {
   "cell_type": "markdown",
   "id": "55d57a75-e748-440f-907d-e388c8933e56",
   "metadata": {},
   "source": [
    "### 4. Summarize with multiqc\n",
    "Finally, another tool (**multiqc**) takes all output summaries of **fastqc** in a directory and creates a nice single HTML output that can be visualized in any internet browser.\n",
    "The tool is available as a singularity container and can be called using `singularity exec PATH/IMAGE multiqc qc_directory`"
   ]
  },
  {
   "cell_type": "code",
   "execution_count": 4,
   "id": "803fd80c-efc5-4845-9ad1-7148f0075c55",
   "metadata": {},
   "outputs": [
    {
     "name": "stdout",
     "output_type": "stream",
     "text": [
      "\n",
      "  \u001b[34m/\u001b[0m\u001b[32m/\u001b[0m\u001b[31m/\u001b[0m \u001b]8;id=202676;https://multiqc.info\u001b\\\u001b[1mMultiQC\u001b[0m\u001b]8;;\u001b\\ 🔍 \u001b[2m| v1.14\u001b[0m\n",
      "\n",
      "\u001b[34m|           multiqc\u001b[0m | Search path : /home/jupyter-mdprieto/tutorials/results_qc\n",
      "\u001b[2K\u001b[34m|\u001b[0m         \u001b[34msearching\u001b[0m | \u001b[90m━━━━━━━━━━━━━━━━━━━━━━━━━━━━━━━━━━━━━━━━\u001b[0m \u001b[35m100%\u001b[0m \u001b[32m41/41\u001b[0m  \u001b[0m0m  \n",
      "\u001b[?25h\u001b[34m|            fastqc\u001b[0m | Found 20 reports\n",
      "\u001b[34m|           multiqc\u001b[0m | Compressing plot data\n",
      "\u001b[34m|           multiqc\u001b[0m | Report      : multiqc_report.html\n",
      "\u001b[34m|           multiqc\u001b[0m | Data        : multiqc_data\n",
      "\u001b[34m|           multiqc\u001b[0m | MultiQC complete\n"
     ]
    }
   ],
   "source": [
    "singularity exec /home/jupyter-mdprieto/tools/multiqc_1.14.sif multiqc $OUTPUT_QC"
   ]
  },
  {
   "cell_type": "code",
   "execution_count": null,
   "id": "7a2368c0-5882-44a9-b0f6-91522425f187",
   "metadata": {},
   "outputs": [],
   "source": [
    "## Reproduce the QC pipeline in Compute Canada"
   ]
  },
  {
   "cell_type": "markdown",
   "id": "5929e8bd-4344-42cb-96be-4351fed670b4",
   "metadata": {},
   "source": [
    "In compute canada, we run intensive commands as part of jobs. In a job, we specify how much memory and processing power we require and the system will automatically asign these values and run our specified commands. \n",
    "\n",
    "To do this, we save all of our commands and the instructions for the job in a text file. To do this, we open a text editor (`nano text_filename` or `vim text_filename`) and copy the following commands.\n",
    "Once the commands are written in the text, we save the file using **Ctrl+X** in `nano` or **Esc + ZZ** in `vim`"
   ]
  },
  {
   "cell_type": "markdown",
   "id": "73c6e8a9-f4c3-4ba3-b64b-4260ac717efa",
   "metadata": {},
   "source": [
    "```\n",
    "#!/bin/bash\n",
    "#SBATCH --account=rrg-whsiao-ab                    # compute canada PI allocation\n",
    "#SBATCH --mem=25gb                                 # 25 GB of memory\n",
    "#SBATCH --time=06:00:00                            # approximate time to complete all actions\n",
    "#SBATCH --job-name=\"quality_control\"               # name of job\n",
    "#SBATCH --chdir=/scratch/mdprieto/tutorials        # change to directory before start\n",
    "#SBATCH --cpus-per-task=9                          # number of threads, how many simultaneous tasks\n",
    "export OMP_NUM_THREADS=$SLURM_CPUS_PER_TASK\n",
    "\n",
    "################################ preparation ######################################\n",
    "\n",
    "# load necessary modules\n",
    "module load StdEnv/2020 bbmap/38.86 fastqc/0.11.9 seqkit/0.15.0 \n",
    "\n",
    "# create output directory\n",
    "mkdir -p /scratch/mdprieto/tutorials/qc_results\n",
    "\n",
    "# establish path for outputs and input\n",
    "adapters_file='/cvmfs/soft.computecanada.ca/easybuild/software/2020/Core/bbmap/38.86/resources/adapters.fa'\n",
    "OUTPUT_QC=\"/home/jupyter-mdprieto/tutorials/results_qc\"\n",
    "OUTPUT_TRIM=\"/home/jupyter-mdprieto/tutorials/trimmed_reads\"\n",
    "INPUT_DIR=\"/home/jupyter-mdprieto/tutorials/raw_reads\"\n",
    "\n",
    "################################## seqkit #########################################\n",
    "\n",
    "# run seqkit in fastq file and save output in tab separated file\n",
    "seqkit stats $INPUT_DIR/*.fastq.gz > $OUTPUT_QC/seqkit_output.tsv\n",
    "\n",
    "################################## fastqc #########################################\n",
    "\n",
    "# for all files in raw_reads directory\n",
    "fastqc $INPUT_DIR/*.fastq.gz \\\n",
    "    -o $OUTPUT_QC \\\n",
    "    -t 9 \\\n",
    "    --quiet\n",
    "\n",
    "################################## multiqc #########################################\n",
    "\n",
    "# execute from singularity\n",
    "singularity exec /home/jupyter-mdprieto/tools/multiqc_1.14.sif multiqc $OUTPUT_QC\n",
    "\n",
    "################################## trimming ########################################\n",
    "\n",
    "for i in $(ls $INPUT_DIR/*_R1*)\n",
    "do\n",
    "R1=$(basename $i)\n",
    "R2=$(echo $R1 | sed 's/_R1/_R2/')\n",
    "bbduk.sh \\\n",
    "    in1=$INPUT_DIR/$R1 in2=$INPUT_DIR/$R2 \\\n",
    "    out1=$OUTPUT_TRIM/$R1 out2=$OUTPUT_TRIM/$R2 \\\n",
    "    ref=$adapters_file \\\n",
    "    k=23 trimq=6 tpe tbo \\\n",
    "    threads=9\n",
    "done\n",
    "\n",
    "```"
   ]
  },
  {
   "cell_type": "markdown",
   "id": "462e363f-a5c8-4b02-b313-c8e915bb9099",
   "metadata": {},
   "source": [
    "<font color='darkred'>_**Notes for compute canada:**_ </font>  \n",
    "Our pipeline for quality control of raw reads includes several steps:\n",
    "\n",
    "1. We use the ***seqkit*** tool to obtain basic statistics from the **.fastq** files. The module to load **seqkit** is available in CC, so it can be load using `module load`. \n",
    "    - The tool takes `fastq` files as inputs and produces a txt output \n",
    "2. We will use **fastqc** which is also available as a module in ComputeCanada. The tool creates an overall summary of different metrics of sequencing including nucleotide distribution, presence of repeats, quality of base calling, GC content and adapter content\n",
    "    - **fastqc** produces an output summary for every file entered\n",
    "3. Another tool (**multiqc**) takes all output summaries of **fastqc** in a directory and creates a nice single HTML output that can be visualized in any web browser.\n",
    "    - Not available in Compute Canada, so we use a singularity container to execute it\n",
    "4. To have reads ready for assembly, I trimm or remove any PCR adaptors, barcodes or poor quality regions using **BBtools**\n",
    "    \n",
    "\n",
    "To make it easier to reproduce, we will open a text file with editor `nano` and save the following code."
   ]
  }
 ],
 "metadata": {
  "kernelspec": {
   "display_name": "Bash [conda env:root] *",
   "language": "bash",
   "name": "conda-root-bash"
  },
  "language_info": {
   "codemirror_mode": "shell",
   "file_extension": ".sh",
   "mimetype": "text/x-sh",
   "name": "bash"
  }
 },
 "nbformat": 4,
 "nbformat_minor": 5
}
