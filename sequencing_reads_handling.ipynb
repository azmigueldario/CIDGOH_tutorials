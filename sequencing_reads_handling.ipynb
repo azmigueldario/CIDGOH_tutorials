{
 "cells": [
  {
   "cell_type": "markdown",
   "id": "354ca6e6-eb53-4957-b4da-b6a7f2040991",
   "metadata": {},
   "source": [
    "# Handling of sequencing reads"
   ]
  },
  {
   "cell_type": "markdown",
   "id": "7f534165-8866-49aa-b5b4-bf5faeef0ca7",
   "metadata": {},
   "source": [
    "Reads are typically available in [fastq](https://en.wikipedia.org/wiki/FASTQ_format) format after conducting sequencing experiments (Illumina, Nanopore, PacBio).\n",
    "\n",
    "Our analysis will be done in the **Compute Canada (CC)** cluster of analysis.\n",
    "To login into the cluster, follow the instructions available in the [wiki page for new users](https://docs.alliancecan.ca/wiki/SSH). "
   ]
  },
  {
   "cell_type": "code",
   "execution_count": 1,
   "id": "aa8e7199-91e4-42c7-a4ff-6d993e6d1aa8",
   "metadata": {},
   "outputs": [
    {
     "name": "stdout",
     "output_type": "stream",
     "text": [
      "/home/jupyter-mdprieto\n",
      "CIDGOH_tutorials  sequencing_reads_handling.ipynb\n",
      "reads_directory   target_directory\n"
     ]
    }
   ],
   "source": [
    "cd\n",
    "pwd -P\n",
    "ls"
   ]
  },
  {
   "cell_type": "markdown",
   "id": "916d8964-9dc9-4ace-9491-1b7d3c3e0f3f",
   "metadata": {
    "tags": []
   },
   "source": [
    "## Exploring the data\n",
    "\n",
    "Data may be shared through a folder or downloaded from a biorepository and is the result of Illumina sequencing (75bp paired end reads). The initial step must be to make it available for yourself in the cluster. \n",
    "\n",
    "The dataset is available in a shared directory (`reads_directory`) so you can move it to the folder you desire using the following code."
   ]
  },
  {
   "cell_type": "code",
   "execution_count": 2,
   "id": "e96367ca-ca0d-4e18-b1f1-40bb00ec9aa5",
   "metadata": {},
   "outputs": [
    {
     "name": "stdout",
     "output_type": "stream",
     "text": [
      "ERR10479510_Illumina_MiSeq_paired_end_sequencing_1.fastq.gz ERR10479510_Illumina_MiSeq_paired_end_sequencing_2.fastq.gz ERR10479511_Illumina_MiSeq_paired_end_sequencing_1.fastq.gz ERR10479511_Illumina_MiSeq_paired_end_sequencing_2.fastq.gz ERR10479512_Illumina_MiSeq_paired_end_sequencing_1.fastq.gz ERR10479512_Illumina_MiSeq_paired_end_sequencing_2.fastq.gz ERR10479513_Illumina_MiSeq_paired_end_sequencing_1.fastq.gz ERR10479513_Illumina_MiSeq_paired_end_sequencing_2.fastq.gz ERR10479514_Illumina_MiSeq_paired_end_sequencing_1.fastq.gz ERR10479514_Illumina_MiSeq_paired_end_sequencing_2.fastq.gz ERR10479515_Illumina_MiSeq_paired_end_sequencing_1.fastq.gz ERR10479515_Illumina_MiSeq_paired_end_sequencing_2.fastq.gz ERR10479516_Illumina_MiSeq_paired_end_sequencing_1.fastq.gz ERR10479516_Illumina_MiSeq_paired_end_sequencing_2.fastq.gz ERR10479517_Illumina_MiSeq_paired_end_sequencing_1.fastq.gz ERR10479517_Illumina_MiSeq_paired_end_sequencing_2.fastq.gz ERR10479518_Illumina_MiSeq_paired_end_sequencing_1.fastq.gz ERR10479518_Illumina_MiSeq_paired_end_sequencing_2.fastq.gz ERR10479519_Illumina_MiSeq_paired_end_sequencing_1.fastq.gz ERR10479519_Illumina_MiSeq_paired_end_sequencing_2.fastq.gz download_data\n"
     ]
    }
   ],
   "source": [
    "cd /home/jupyter-mdprieto/reads_directory\n",
    "echo $(ls) \n",
    "\n",
    "# replace the path to target_directory with your folder\n",
    "cp /home/jupyter-mdprieto/reads_directory/* /path/to/target"
   ]
  },
  {
   "cell_type": "code",
   "execution_count": null,
   "id": "2a1b3b3c-d4a9-4c4b-b6a1-8b6078a7e4e2",
   "metadata": {},
   "outputs": [],
   "source": [
    "Also, if the reads are compressed, you could unzip them, although most bioinformatic programs can receive `tar` or `gzip` files as input. "
   ]
  },
  {
   "cell_type": "code",
   "execution_count": 37,
   "id": "b03172c7-2ec6-4c4a-94c8-7be5f9212acb",
   "metadata": {},
   "outputs": [
    {
     "name": "stdout",
     "output_type": "stream",
     "text": [
      "ERR10479510_R1.fastq.gz  ERR10479513_R2.fastq.gz  ERR10479517_R1.fastq.gz\n",
      "ERR10479510_R2.fastq.gz  ERR10479514_R1.fastq.gz  ERR10479517_R2.fastq.gz\n",
      "ERR10479511_R1.fastq.gz  ERR10479514_R2.fastq.gz  ERR10479518_R1.fastq.gz\n",
      "ERR10479511_R2.fastq.gz  ERR10479515_R1.fastq.gz  ERR10479518_R2.fastq.gz\n",
      "ERR10479512_R1.fastq.gz  ERR10479515_R2.fastq.gz  ERR10479519_R1.fastq.gz\n",
      "ERR10479512_R2.fastq.gz  ERR10479516_R1.fastq.gz  ERR10479519_R2.fastq.gz\n",
      "ERR10479513_R1.fastq.gz  ERR10479516_R2.fastq.gz\n"
     ]
    }
   ],
   "source": [
    "# ------------ if you want to decompress the files\n",
    "#tar -zxf ERR*\n",
    "\n",
    "# list all files in new directory\n",
    "ls /home/jupyter-mdprieto/target_directory/"
   ]
  },
  {
   "cell_type": "markdown",
   "id": "515012ad-749f-4f0f-8db4-a36bba3a0427",
   "metadata": {},
   "source": [
    "The files in our folder have the naming convention `_R1.fastq` or `_R2.fastq`. Because we are using Illumina MiSeq reads, we have pairs of reads per sample and a combination of them represents a single specimen. A similar naming structure is typically used to represent paired end reads (`_1.fastq, _R001.fastq`). More information on the project that provides this data can be found in [Catho et al 2021.](https://pubmed.ncbi.nlm.nih.gov/34412676/)"
   ]
  },
  {
   "cell_type": "markdown",
   "id": "26f3c59f-2d7d-4fd2-81a5-9a21a19a04f8",
   "metadata": {},
   "source": [
    "## Quality control\n",
    "\n",
    "It is a good practice to organize every project/analysis in an individual directory. You can also use github repositories to synchronize all your results and scripts so other researchers can easily reproduce your results. \n",
    "\n",
    "We will create a new directory where we can put the results of all tutorials. \n",
    "\n",
    "_**Notes for compute canada:**_ Compute Canada provides different directories for storage. Jobs cannot be launched from the *HOME* and *PROJECT* directory or any of its subdirectories. The ideal place to run jobs is the *SCRATCH* folder, where you have short term storage of large amounts of data. \n",
    "- Once you have final results, these should be moved to your *PROJECT* directory as the *SCRATCH* folder is constantly being cleaned"
   ]
  },
  {
   "cell_type": "code",
   "execution_count": 38,
   "id": "f77ddec4-742e-4678-ba62-d23ff92d9f69",
   "metadata": {},
   "outputs": [],
   "source": [
    "# changes to home directory \n",
    "cd \n",
    "\n",
    "# creates new directory\n",
    "mkdir results_tutorials"
   ]
  },
  {
   "cell_type": "code",
   "execution_count": 39,
   "id": "440048e2-b6fb-4344-8c60-fa2099d449ca",
   "metadata": {},
   "outputs": [
    {
     "name": "stdout",
     "output_type": "stream",
     "text": [
      "CIDGOH_tutorials  results_tutorials                target_directory\n",
      "reads_directory   sequencing_reads_handling.ipynb\n"
     ]
    }
   ],
   "source": [
    "ls"
   ]
  },
  {
   "cell_type": "markdown",
   "id": "a516e6ea-9b42-4e7a-b456-c414ecbe1209",
   "metadata": {
    "jp-MarkdownHeadingCollapsed": true,
    "tags": []
   },
   "source": [
    "Our pipeline for quality control of raw reads includes several steps:\n",
    "\n",
    "1. We use the ***seqkit*** tool to obtain basic statistics from the **.fastq** files. The module to load **seqkit** is available in CC, so it can be load using `module load`. \n",
    "    - The tool takes `fastq` files as inputs and produces a txt output \n",
    "2. We will use **fastqc** which is also available as a module in ComputeCanada. The tool creates an overall summary of different metrics of sequencing including nucleotide distribution, presence of repeats, quality of base calling, GC content and adapter content\n",
    "    - A for loop lets me apply a command to every file/read available. In this case to all files with suffix 'fastq' in the INPUT_DIR\n",
    "    - **fastqc** produces an output summary for every file entered\n",
    "3. Finally, another tool (**multiqc**) takes all output summaries of **fastqc** in a directory and creates a nice sinfle HTML output that can be visualized in any web browser.\n",
    "    \n",
    "\n",
    "To make it easier to reproduce, we will open a text file with editor `nano` and save the following code."
   ]
  },
  {
   "cell_type": "code",
   "execution_count": null,
   "id": "5e9af9ee-3480-4fe5-a3a4-663bf6517898",
   "metadata": {},
   "outputs": [],
   "source": [
    "# open text editor\n",
    "nano tutorial_seqkit.sh\n",
    "\n",
    "# ------------------------------- write following code inside file\n",
    "\n",
    "#!/bin/bash\n",
    "#SBATCH --account=rrg-whsiao-ab                    # compute canada PI allocation\n",
    "#SBATCH --mem=25gb                                 # 25 GB of memory\n",
    "#SBATCH --time=06:00:00\n",
    "#SBATCH --job-name=\"quality_control\"               # name of job\n",
    "#SBATCH --chdir=/scratch/mdprieto/tutorials        # change to directory before start\n",
    "#SBATCH --cpus-per-task=9\n",
    "export OMP_NUM_THREADS=$SLURM_CPUS_PER_TASK\n",
    "\n",
    "################################ preparation ######################################\n",
    "\n",
    "# load necessary modules\n",
    "module load StdEnv/2020\n",
    "module load nixpkgs/16.09\n",
    "module load fastqc/0.11.9\n",
    "module load python/3.10.2\n",
    "module load seqkit/0.15.0\n",
    "pip install multiqc\n",
    "\n",
    "# create output directory\n",
    "mkdir -p /scratch/mdprieto/tutorials/qc_results\n",
    "\n",
    "# establish path for output and input\n",
    "OUTPUT_DIR=\"/scratch/mdprieto/tutorials/qc_results\"\n",
    "INPUT_DIR=\"/project/6056895/mdprieto/tutorials/fastq_reads\"\n",
    "\n",
    "################################## seqkit #########################################\n",
    "\n",
    "# run seqkit in fastq file and save output in tab separated file\n",
    "seqkit stats $INPUT_DIR/*.fastq.gz > $OUTPUT_DIR/seqkit_output.tsv\n",
    "\n",
    "################################## fastqc #########################################\n",
    "\n",
    "# run fastqc tool for every file in INPUT_DIR\n",
    "for fastq_file in $(ls $INPUT_DIR/*.fastq.gz)\n",
    "do\n",
    "fastqc \\\n",
    "        -o $OUTPUT_DIR \\\n",
    "        -t 9 \\\n",
    "        $fastq_file\n",
    "        # output is saved as individual files in OUTPUT_DIR\n",
    "done\n",
    "\n",
    "################################## multiqc #########################################\n",
    "\n",
    "# move to output dir, multiqc automatically reads all files\n",
    "cd $OUTPUT_DIR\n",
    "multiqc . "
   ]
  },
  {
   "cell_type": "markdown",
   "id": "353ddaf1-c9e2-4bbd-994a-b3b00a8ca550",
   "metadata": {},
   "source": [
    "## Results\n",
    "\n",
    "In the `qc_results` output directory for the tutorial, we will find individual summaries for **fastqc**, a tab separated file that contains statistics about all the sequencing reads, and an executable `html` file produced by **multiqc**\n",
    "\n",
    "Based on the output of **multiqc**, we can exclude samples that had poor quality of sequencing and maybe explore presence of adapter sequences that need to be trimmed for older assemblers. "
   ]
  }
 ],
 "metadata": {
  "kernelspec": {
   "display_name": "Bash",
   "language": "bash",
   "name": "bash"
  },
  "language_info": {
   "codemirror_mode": "shell",
   "file_extension": ".sh",
   "mimetype": "text/x-sh",
   "name": "bash"
  }
 },
 "nbformat": 4,
 "nbformat_minor": 5
}
