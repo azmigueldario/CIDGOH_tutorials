{
 "cells": [
  {
   "cell_type": "markdown",
   "id": "113df914-b625-46a3-8b82-f522c98f48d8",
   "metadata": {},
   "source": [
    "# Genome assembly and quality control of assembly"
   ]
  },
  {
   "cell_type": "markdown",
   "id": "49ff02db-aca0-4676-9da3-330584a10d49",
   "metadata": {
    "tags": []
   },
   "source": [
    "## Required tools\n",
    "\n",
    "After the previous steps of quality control (QC), we have reads still in raw_format but now we have a summary of their quality. Furthermore, we have removed regions with poor quality of sequencing (where we cannot be sure if the assigned nucleotides are right) and we removed the adaptor sequences that are added to our DNA for sequencing. \n",
    "\n",
    "In this series of steps, we will do assembly of the reads using a tool called `shovill`. Once again, we will mimic how to run the commands in the **Compute Canada (CC)** cluster of analysis. \n",
    "\n",
    "For these tutorials, tools will be made available using singularity containers, which can be run using the command `singularity run tool_image`. These tools have been made available in the environment already, so there is no need to download them.\n",
    "\n",
    "Tools used in this tutorial:\n",
    "- shovill\n",
    "- singularity\n",
    "\n",
    "We will first explore the structure of our environment and the folders available. Tools downloaded for the tutorial are in the `tools` folder and in the `tutorials` directory are the primary datasets as well as the results of our runs. \n",
    "\n",
    "```\n",
    ".\n",
    "|-- tools\n",
    "`-- tutorials\n",
    "    |-- raw_reads\n",
    "    |-- results_qc\n",
    "    `-- trimmed_reads\n",
    "```\n",
    "\n",
    "For downstream assembly, we will use the curated reads contained in the `trimmed_reads` subdirectory (n=20 files containing paired reads for 10 isolates of _P.aeruginosa_). "
   ]
  },
  {
   "cell_type": "code",
   "execution_count": 23,
   "id": "496d090f-da9d-4813-a2d7-e0e8d163d1c7",
   "metadata": {
    "tags": []
   },
   "outputs": [],
   "source": [
    "# source PATH to use module function\n",
    "source /cvmfs/soft.computecanada.ca/config/profile/bash.sh"
   ]
  },
  {
   "cell_type": "code",
   "execution_count": 24,
   "id": "7787d504-aa7f-47d3-b3c7-00308ecf43c8",
   "metadata": {
    "tags": []
   },
   "outputs": [
    {
     "name": "stdout",
     "output_type": "stream",
     "text": [
      "ERR10479510_R1.fastq.gz  ERR10479513_R2.fastq.gz  ERR10479517_R1.fastq.gz\n",
      "ERR10479510_R2.fastq.gz  ERR10479514_R1.fastq.gz  ERR10479517_R2.fastq.gz\n",
      "ERR10479511_R1.fastq.gz  ERR10479514_R2.fastq.gz  ERR10479518_R1.fastq.gz\n",
      "ERR10479511_R2.fastq.gz  ERR10479515_R1.fastq.gz  ERR10479518_R2.fastq.gz\n",
      "ERR10479512_R1.fastq.gz  ERR10479515_R2.fastq.gz  ERR10479519_R1.fastq.gz\n",
      "ERR10479512_R2.fastq.gz  ERR10479516_R1.fastq.gz  ERR10479519_R2.fastq.gz\n",
      "ERR10479513_R1.fastq.gz  ERR10479516_R2.fastq.gz\n"
     ]
    }
   ],
   "source": [
    "cd\n",
    "ls tutorials/trimmed_reads"
   ]
  },
  {
   "cell_type": "markdown",
   "id": "22a79a81-00a5-4cc9-9a72-dab9f7c26fd4",
   "metadata": {},
   "source": [
    "## De-novo assembly with Shovill\n",
    "\n",
    "Shovill is a tool that optimizes the assembler `Spades` to minimize the run time, while maintaining the quality of assembly. It generates a draft genome using heuristic algorithms and does not require a reference genome that guides the process. See the GitHub repositories of [shovill](https://github.com/tseemann/shovill) and [SPAdes](https://github.com/ablab/spades) for more details. \n",
    "\n",
    "Shovill is not available as a module pre-installed in **CC**, so we must use another strategy. The easiest one is to use a container, we can install from a **Docker** container, but Docker containers are not suitable for high performance clusters like **Compute Canada** because they have inherent root user privileges. Thus, many HPC allow use of **Singularity** images as an alternative (For more info about what is containerization you can read https://www.melbournebioinformatics.org.au/tutorials/tutorials/docker/docker/).\n",
    "\n",
    "A useful repository of **Singularity** images is located at https://depot.galaxyproject.org/singularity/\n",
    "\n",
    "<font color='darkred'>_**Notes for compute canada:**_ </font>  \n",
    "- Singularity needs to be loaded into the system. On the CIDGOH servers, it is loaded by default. Run the following code to have singularity available in your compute canada session. \n",
    "\n",
    ">    module load singularity\n",
    "\n",
    "- We have already downloaded the **Shovill** singularity container. In CC, you may need to do it, so run the following command in case it is necessary. The command tells the system to pull a container from a repository into your local system.\n",
    "\n",
    ">    singularity pull tools/shovill_1.1.sif https://depot.galaxyproject.org/singularity/shovill%3A1.1.0--hdfd78af_1\n"
   ]
  },
  {
   "cell_type": "code",
   "execution_count": 25,
   "id": "0295f341-5926-4e79-91c9-d98631079b29",
   "metadata": {
    "tags": []
   },
   "outputs": [
    {
     "name": "stdout",
     "output_type": "stream",
     "text": [
      "SYNOPSIS\n",
      "  De novo assembly pipeline for Illumina paired reads\n",
      "USAGE\n",
      "  shovill [options] --outdir DIR --R1 R1.fq.gz --R2 R2.fq.gz\n",
      "GENERAL\n",
      "  --help          This help\n",
      "  --version       Print version and exit\n",
      "  --check         Check dependencies are installed\n",
      "INPUT\n",
      "  --R1 XXX        Read 1 FASTQ (default: '')\n",
      "  --R2 XXX        Read 2 FASTQ (default: '')\n",
      "  --depth N       Sub-sample --R1/--R2 to this depth. Disable with --depth 0 (default: 150)\n",
      "  --gsize XXX     Estimated genome size eg. 3.2M <blank=AUTODETECT> (default: '')\n",
      "OUTPUT\n",
      "  --outdir XXX    Output folder (default: '')\n",
      "  --force         Force overwite of existing output folder (default: OFF)\n",
      "  --minlen N      Minimum contig length <0=AUTO> (default: 0)\n",
      "  --mincov n.nn   Minimum contig coverage <0=AUTO> (default: 2)\n",
      "  --namefmt XXX   Format of contig FASTA IDs in 'printf' style (default: 'contig%05d')\n",
      "  --keepfiles     Keep intermediate files (default: OFF)\n",
      "RESOURCES\n",
      "  --tmpdir XXX    Fast temporary directory (default: '')\n",
      "  --cpus N        Number of CPUs to use (0=ALL) (default: 8)\n",
      "  --ram n.nn      Try to keep RAM usage below this many GB (default: 16)\n",
      "ASSEMBLER\n",
      "  --assembler XXX Assembler: skesa megahit velvet spades (default: 'spades')\n",
      "  --opts XXX      Extra assembler options in quotes eg. spades: '--sc' (default: '')\n",
      "  --kmers XXX     K-mers to use <blank=AUTO> (default: '')\n",
      "MODULES\n",
      "  --trim          Enable adaptor trimming (default: OFF)\n",
      "  --noreadcorr    Disable read error correction (default: OFF)\n",
      "  --nostitch      Disable read stitching (default: OFF)\n",
      "  --nocorr        Disable post-assembly correction (default: OFF)\n",
      "HOMEPAGE\n",
      "  https://github.com/tseemann/shovill - Torsten Seemann\n"
     ]
    }
   ],
   "source": [
    "# executing shovill\n",
    "singularity exec tools/shovill_1.1.sif shovill --help"
   ]
  },
  {
   "cell_type": "markdown",
   "id": "c2ba8b22-fddf-4774-b9d0-5c0fb23a33ae",
   "metadata": {},
   "source": [
    "#### What does shovill do?\n",
    "\n",
    "1. Unifies coverage depth for all genomes\n",
    "2. Trims adapters and poor quality reads if necessary\n",
    "3. Assembles using SPAdes\n",
    "4. Polishes genomes (improves quality) and filters low quality contigs\n"
   ]
  },
  {
   "cell_type": "code",
   "execution_count": 26,
   "id": "b145e909-c993-46e8-bf8f-ac42000e5bf2",
   "metadata": {
    "tags": []
   },
   "outputs": [],
   "source": [
    "# create output directory\n",
    "OUTPUT_ASSEMBLY=\"/home/jupyter-mdprieto/tutorials/contigs\"\n",
    "\n",
    "# define PATH to trimmed_reads\n",
    "TRIMMED_READS=\"/home/jupyter-mdprieto/tutorials/trimmed_reads\""
   ]
  },
  {
   "cell_type": "markdown",
   "id": "858935a0-b97d-4969-aeae-88b3885a5df4",
   "metadata": {},
   "source": [
    "To execute shovill, we run the command from the singularity container we just downloaded. Genome assembly is the most resource intensive process in the pipeline, so it will probably take a while to run. As input, we will use or `trimmed_reads` files and to optimize your run time, we will assemble only two isolates. The remaining ones are already available in the `tutorials/results` folder\n",
    "\n",
    "<font color='darkred'>_**Notes for compute canada:**_ </font>  \n",
    "- Allocate sufficiente memory as the size of every genome must be kept in storage while it is assembled\n",
    "- Bioinformatic procedures usually use multiple threads to optimize performance, so their efficiency increases with the number of available cores (including **SPAdes**). \n",
    "- In shovill, the `--ram` option specifies the available ram per thread (core)\n",
    "    - Spades will take input of RAM from shovill as total available mem, better to input limit manually with `--opts \"-m XX\"`"
   ]
  },
  {
   "cell_type": "code",
   "execution_count": null,
   "id": "f4eacd90-b635-49c7-b907-0729c900b3d5",
   "metadata": {
    "scrolled": true,
    "tags": []
   },
   "outputs": [
    {
     "name": "stdout",
     "output_type": "stream",
     "text": [
      "Started processing ERR10479510\n",
      "singularity exec tools/shovill_1.1.sif shovill --R1 /home/jupyter-mdprieto/tutorials/trimmed_reads/ERR10479510_R1.fastq.gz --R2 /home/jupyter-mdprieto/tutorials/trimmed_reads/ERR10479510_R2.fastq.gz --outdir /home/jupyter-mdprieto/tutorials/contigs --force --ram 140\n",
      "mv /home/jupyter-mdprieto/tutorials/contigs/contigs.fa /home/jupyter-mdprieto/tutorials/contigs/ERR10479510\\_contigs.fa\n",
      "Finished assembly of sample ERR10479510\n",
      "Started processing ERR10479511\n",
      "singularity exec tools/shovill_1.1.sif shovill --R1 /home/jupyter-mdprieto/tutorials/trimmed_reads/ERR10479511_R1.fastq.gz --R2 /home/jupyter-mdprieto/tutorials/trimmed_reads/ERR10479511_R2.fastq.gz --outdir /home/jupyter-mdprieto/tutorials/contigs --force --ram 140\n",
      "mv /home/jupyter-mdprieto/tutorials/contigs/contigs.fa /home/jupyter-mdprieto/tutorials/contigs/ERR10479511\\_contigs.fa\n",
      "Finished assembly of sample ERR10479511\n"
     ]
    }
   ],
   "source": [
    "# for loop to run a command for each sample\n",
    "\n",
    "for read1 in $(ls \"$TRIMMED_READS\"/*R1.fastq.gz | head -n 2)\n",
    "do\n",
    "\n",
    "    \n",
    "    read2=${read1/_R1/_R2}                                      # substitute R1 for R2 in variable\n",
    "    prefix_isolate=$(basename $read1 _R1.fastq.gz)              # create file with isolate name\n",
    "    echo \"Started processing $prefix_isolate\"\n",
    "    \n",
    "    echo singularity exec tools/shovill_1.1.sif shovill         `# execute shovill image` \\                   \n",
    "        --R1 $read1 --R2 $read2                                 `# specify paired reads R1 and R2` \\\n",
    "        --outdir \"$OUTPUT_ASSEMBLY\"                             `# define output directory` \\\n",
    "        --force                                                 `# overwrite results if already available` \\\n",
    "        --ram 140                                               `# how much ram memory to use`\n",
    "    \n",
    "    # name resulting file with isolate id\n",
    "    mv \"$OUTPUT_ASSEMBLY/contigs.fa\" \"$OUTPUT_ASSEMBLY/$prefix_isolate\\_contigs.fa\"\n",
    "    \n",
    "    echo \"Finished assembly of sample $prefix_isolate\"\n",
    "    \n",
    "done"
   ]
  },
  {
   "cell_type": "markdown",
   "id": "38b71de2-4acc-47c9-bcf2-9b3892fd47d5",
   "metadata": {},
   "source": [
    "In this tutorial, we processed only two samples to optimize the runtime. The remaining assemblies can be found in the same directory for future steps. In this tutorial, we processed only two samples to optimize the runtime. The remaining assemblies can be found in the same directory for future steps. \n",
    "\n",
    "The main output of the **Shovill** pipeline are the files ending in `contigs.fa` which contain assembled reads in fasta format. We can see that this format contains a header for every contig and then the reads.  "
   ]
  },
  {
   "cell_type": "code",
   "execution_count": 30,
   "id": "2c36552e-64da-4711-b61e-d75cb95e3155",
   "metadata": {
    "tags": []
   },
   "outputs": [
    {
     "name": "stdout",
     "output_type": "stream",
     "text": [
      ">contig00001 len=531597 cov=40.5 corr=0 origname=NODE_1_length_531597_cov_40.531919_pilon sw=shovill-spades/1.1.0 date=20230301\n",
      "CGGCGGCAGTTGGCGAAAGAAATCCCGCACCTGTGCCCGCTTGAGTTGGCGACGACATAC\n",
      "CACATGCTCGTGACGATCAACGCCGTGCACCTGGAATACTTGTTTTGCCAGATCCAGACC\n",
      "AATGCGACTAAGGTTCATGCTGACTCCCCCTCCGGGACTTGTGGCTGCACCATTAGTCTG\n",
      "GCGCTTGACGCCGTAGGAGGGAGGAGTCCATTTCATTGCCCTACCCCAGCTCTCCATCGC\n",
      "CGCCAATCTCCCGCATATCCCCGGAGTCCGCCATGTCCTCACCCCAACCGCCCCGCTTCG\n",
      "ACGGCCAACGCTGGAGCAACGCCGACGACGACCGCATCGAGGTGCTGCCTGCCGACCCCG\n",
      "CCTGGCCACAACACTTCGCCGCCGAAGCCGAGGCCATCCGCACGGCGCTGGCGCTGCCCG\n",
      "GGCTGGGCATCGAGCATGTCGGCAGCACCGCGGTGCCCGGGCTCGACGCCAAGCCGATCA\n",
      "TCGACATCCTCCTGCTGCCGCCGCCCGGCCACGATCCGCAGCGGCTGGTAGCCCCGCTGG\n"
     ]
    }
   ],
   "source": [
    "head \"$OUTPUT_ASSEMBLY/ERR10479510_contigs.fa\""
   ]
  },
  {
   "cell_type": "markdown",
   "id": "0d38f655-b711-477f-8792-2c1c7d0e30b3",
   "metadata": {},
   "source": [
    "# Quality control of draft genomes\n",
    "\n",
    "**Shovill** produces contigs (overlapping consensus regions of DNA) for every isolate. However, sometimes we may have contaminated cultures growing other bacteria than our organism of interest. Also, given the non targeted approach used for sequencing, the reads from an isolate may have poor quality (low realibility in base calling or poor coverage of certain regions).\n",
    "\n",
    "Thus, after producing draft genomes, we typically conduct additional checks to verify the quality of the resulting files and make sure that we do not have contamination in our samples. "
   ]
  },
  {
   "cell_type": "markdown",
   "id": "f675c8dc-2ca1-4f16-bfb3-d21cdb11e36a",
   "metadata": {},
   "source": [
    "## Quast\n",
    "\n",
    "Quast [(github:quast)](https://github.com/ablab/quast) produces quantitative summaries of the contigs in every assembly. It also uses a reference genome to evaluate misassemblies, unaligned contigs, and metrics of coverage against the reference genome. \n",
    "\n",
    "**_Some metrics include:_** \n",
    "- Number of contigs and number of contigs > 500bp\n",
    "- **N50** or the length at which the collection of all contigs of at least that length covers half of the assembly \n",
    "- **NG50** is similar to **N50** but measures the coverage of the reference genome\n",
    "- Number of misassemblies including inversions, relocations, and translocations\n",
    "- Number and total length of unaligned contigs (against the reference genome)\n",
    "\n",
    "As the data we are analyzing in the tutorial comes from _P. aeruginosa_ isolates ([PMID:34412676](https://www.ncbi.nlm.nih.gov/pmc/articles/PMC8376114/) - [BioProject:PRJEB56397](https://www.ncbi.nlm.nih.gov/bioproject/?term=PRJEB56397)), we will use the [PAO1 reference strain](https://www.ncbi.nlm.nih.gov/data-hub/genome/GCF_000006765.1/) for quality control. "
   ]
  },
  {
   "cell_type": "code",
   "execution_count": 31,
   "id": "7cbe0a00-80a9-4853-9165-c6435d69dab0",
   "metadata": {},
   "outputs": [
    {
     "name": "stdout",
     "output_type": "stream",
     "text": [
      "\n",
      "Lmod is automatically replacing \"intel/2020.1.217\" with \"gcc/9.3.0\".\n",
      "\n",
      "\n",
      "The following have been reloaded with a version change:\n",
      "  1) StdEnv/2016.4 => StdEnv/2020           4) mii/1.1.1 => mii/1.1.2\n",
      "  2) gcccore/.5.4.0 => gcccore/.9.3.0       5) openmpi/2.1.1 => openmpi/4.0.3\n",
      "  3) imkl/11.3.4.258 => imkl/2020.1.217\n",
      "\n",
      "/home/jupyter-mdprieto/tools/GCF_000006765.1_ASM676v1_genomic.fna.gz\n",
      "/home/jupyter-mdprieto/tools/GCF_000006765.1_ASM676v1_genomic.gff.gz\n"
     ]
    }
   ],
   "source": [
    "# load quast into our environment\n",
    "module load StdEnv/2020 gcc/9.3.0 quast/5.0.2\n",
    "\n",
    "# reference genomes are found in the tools directory\n",
    "ls $HOME/tools/GCF*"
   ]
  },
  {
   "cell_type": "code",
   "execution_count": 33,
   "id": "a9574d47-dd93-4f4f-bb8b-abd63697b7fd",
   "metadata": {},
   "outputs": [],
   "source": [
    "# create ENV variable to input and output directory\n",
    "CONTIGS_DIR='/home/jupyter-mdprieto/tutorials/contigs/'\n",
    "ASSEMBLY_QUAST='/home/jupyter-mdprieto/tutorials/assembly_quast/'"
   ]
  },
  {
   "cell_type": "markdown",
   "id": "ee0858fb-25ae-4a69-8a9b-9042dafe56fa",
   "metadata": {},
   "source": [
    "The main command `quast.py` produces several reports with the previously mentioned metrics. The results are provided in multiple formats such as `.pdf, .html, and .csv`. They can be opened directly in Jupyter by clicking in the file explorer or exported to your local computer for further visualization. "
   ]
  },
  {
   "cell_type": "code",
   "execution_count": 17,
   "id": "cd20360a-373c-4e86-94fe-2a353da98649",
   "metadata": {
    "scrolled": true,
    "tags": []
   },
   "outputs": [
    {
     "name": "stdout",
     "output_type": "stream",
     "text": [
      "/cvmfs/soft.computecanada.ca/easybuild/software/2020/avx512/Compiler/gcc9/quast/5.0.2/bin/quast.py /home/jupyter-mdprieto/tutorials/assemblies//ERR10479510_contigs.fa /home/jupyter-mdprieto/tutorials/assemblies//ERR10479511_contigs.fa /home/jupyter-mdprieto/tutorials/assemblies//ERR10479512_contigs.fa /home/jupyter-mdprieto/tutorials/assemblies//ERR10479513_contigs.fa /home/jupyter-mdprieto/tutorials/assemblies//ERR10479514_contigs.fa /home/jupyter-mdprieto/tutorials/assemblies//ERR10479515_contigs.fa /home/jupyter-mdprieto/tutorials/assemblies//ERR10479516_contigs.fa /home/jupyter-mdprieto/tutorials/assemblies//ERR10479517_contigs.fa /home/jupyter-mdprieto/tutorials/assemblies//ERR10479518_contigs.fa /home/jupyter-mdprieto/tutorials/assemblies//ERR10479519_contigs.fa -r /home/jupyter-mdprieto/tools/GCF_000006765.1_ASM676v1_genomic.fna.gz --features /home/jupyter-mdprieto/tools/GCF_000006765.1_ASM676v1_genomic.gff.gz -o /home/jupyter-mdprieto/tutorials/assembly_qc/ --threads 12\n",
      "\n",
      "Version: 5.0.2\n",
      "\n",
      "System information:\n",
      "  OS: Linux-5.4.0-137-generic-x86_64-with-glibc2.2.5 (linux_64)\n",
      "  Python version: 3.8.10\n",
      "  CPUs number: 16\n",
      "\n",
      "Started: 2023-03-01 23:51:56\n",
      "\n",
      "Logging to /home/jupyter-mdprieto/tutorials/assembly_qc/quast.log\n",
      "\n",
      "CWD: /home/jupyter-mdprieto\n",
      "Main parameters: \n",
      "  MODE: default, threads: 12, minimum contig length: 500, minimum alignment length: 65, \\\n",
      "  ambiguity: one, threshold for extensive misassembly size: 1000\n",
      "\n",
      "Reference:\n",
      "  /home/jupyter-mdprieto/tools/GCF_000006765.1_ASM676v1_genomic.fna.gz ==> GCF_000006765.1_ASM676v1_genomic\n",
      "\n",
      "Contigs:\n",
      "  Pre-processing...\n",
      "  1  /home/jupyter-mdprieto/tutorials/assemblies//ERR10479510_contigs.fa ==> ERR10479510_contigs\n",
      "  2  /home/jupyter-mdprieto/tutorials/assemblies//ERR10479511_contigs.fa ==> ERR10479511_contigs\n",
      "  3  /home/jupyter-mdprieto/tutorials/assemblies//ERR10479512_contigs.fa ==> ERR10479512_contigs\n",
      "  4  /home/jupyter-mdprieto/tutorials/assemblies//ERR10479513_contigs.fa ==> ERR10479513_contigs\n",
      "  5  /home/jupyter-mdprieto/tutorials/assemblies//ERR10479514_contigs.fa ==> ERR10479514_contigs\n",
      "  6  /home/jupyter-mdprieto/tutorials/assemblies//ERR10479515_contigs.fa ==> ERR10479515_contigs\n",
      "  7  /home/jupyter-mdprieto/tutorials/assemblies//ERR10479516_contigs.fa ==> ERR10479516_contigs\n",
      "  8  /home/jupyter-mdprieto/tutorials/assemblies//ERR10479517_contigs.fa ==> ERR10479517_contigs\n",
      "  9  /home/jupyter-mdprieto/tutorials/assemblies//ERR10479518_contigs.fa ==> ERR10479518_contigs\n",
      "  10 /home/jupyter-mdprieto/tutorials/assemblies//ERR10479519_contigs.fa ==> ERR10479519_contigs\n",
      "\n",
      "2023-03-01 23:52:55\n",
      "Running Basic statistics processor...\n",
      "  Reference genome:\n",
      "    GCF_000006765.1_ASM676v1_genomic.fna, length = 6264404, num fragments = 1, GC % = 66.56\n",
      "  Contig files: \n",
      "    1  ERR10479510_contigs\n",
      "    2  ERR10479511_contigs\n",
      "    3  ERR10479512_contigs\n",
      "    4  ERR10479513_contigs\n",
      "    5  ERR10479514_contigs\n",
      "    6  ERR10479515_contigs\n",
      "    7  ERR10479516_contigs\n",
      "    8  ERR10479517_contigs\n",
      "    9  ERR10479518_contigs\n",
      "    10 ERR10479519_contigs\n",
      "  Calculating N50 and L50...\n",
      "    1  ERR10479510_contigs, N50 = 221997, L50 = 12, Total length = 7074301, GC % = 65.78, # N's per 100 kbp =  0.00\n",
      "    2  ERR10479511_contigs, N50 = 184817, L50 = 13, Total length = 7065835, GC % = 65.79, # N's per 100 kbp =  0.00\n",
      "    3  ERR10479512_contigs, N50 = 226997, L50 = 12, Total length = 7068874, GC % = 65.80, # N's per 100 kbp =  0.00\n",
      "    4  ERR10479513_contigs, N50 = 223675, L50 = 11, Total length = 7071377, GC % = 65.79, # N's per 100 kbp =  0.00\n",
      "    5  ERR10479514_contigs, N50 = 216284, L50 = 12, Total length = 7067953, GC % = 65.80, # N's per 100 kbp =  0.00\n",
      "    6  ERR10479515_contigs, N50 = 226489, L50 = 11, Total length = 7071220, GC % = 65.79, # N's per 100 kbp =  0.00\n",
      "    7  ERR10479516_contigs, N50 = 215154, L50 = 12, Total length = 7074565, GC % = 65.80, # N's per 100 kbp =  0.00\n",
      "    8  ERR10479517_contigs, N50 = 223643, L50 = 11, Total length = 7069197, GC % = 65.80, # N's per 100 kbp =  0.00\n",
      "    9  ERR10479518_contigs, N50 = 223542, L50 = 12, Total length = 7235525, GC % = 65.65, # N's per 100 kbp =  0.00\n",
      "    10 ERR10479519_contigs, N50 = 223542, L50 = 10, Total length = 7064393, GC % = 65.79, # N's per 100 kbp =  0.00\n",
      "  Drawing Nx plot...\n",
      "    saved to /home/jupyter-mdprieto/tutorials/assembly_qc/basic_stats/Nx_plot.pdf\n",
      "  Drawing NGx plot...\n",
      "    saved to /home/jupyter-mdprieto/tutorials/assembly_qc/basic_stats/NGx_plot.pdf\n",
      "  Drawing cumulative plot...\n",
      "    saved to /home/jupyter-mdprieto/tutorials/assembly_qc/basic_stats/cumulative_plot.pdf\n",
      "  Drawing GC content plot...\n",
      "    saved to /home/jupyter-mdprieto/tutorials/assembly_qc/basic_stats/GC_content_plot.pdf\n",
      "  Drawing ERR10479510_contigs GC content plot...\n",
      "    saved to /home/jupyter-mdprieto/tutorials/assembly_qc/basic_stats/ERR10479510_contigs_GC_content_plot.pdf\n",
      "  Drawing ERR10479511_contigs GC content plot...\n",
      "    saved to /home/jupyter-mdprieto/tutorials/assembly_qc/basic_stats/ERR10479511_contigs_GC_content_plot.pdf\n",
      "  Drawing ERR10479512_contigs GC content plot...\n",
      "    saved to /home/jupyter-mdprieto/tutorials/assembly_qc/basic_stats/ERR10479512_contigs_GC_content_plot.pdf\n",
      "  Drawing ERR10479513_contigs GC content plot...\n",
      "    saved to /home/jupyter-mdprieto/tutorials/assembly_qc/basic_stats/ERR10479513_contigs_GC_content_plot.pdf\n",
      "  Drawing ERR10479514_contigs GC content plot...\n",
      "    saved to /home/jupyter-mdprieto/tutorials/assembly_qc/basic_stats/ERR10479514_contigs_GC_content_plot.pdf\n",
      "  Drawing ERR10479515_contigs GC content plot...\n",
      "    saved to /home/jupyter-mdprieto/tutorials/assembly_qc/basic_stats/ERR10479515_contigs_GC_content_plot.pdf\n",
      "  Drawing ERR10479516_contigs GC content plot...\n",
      "    saved to /home/jupyter-mdprieto/tutorials/assembly_qc/basic_stats/ERR10479516_contigs_GC_content_plot.pdf\n",
      "  Drawing ERR10479517_contigs GC content plot...\n",
      "    saved to /home/jupyter-mdprieto/tutorials/assembly_qc/basic_stats/ERR10479517_contigs_GC_content_plot.pdf\n",
      "  Drawing ERR10479518_contigs GC content plot...\n",
      "    saved to /home/jupyter-mdprieto/tutorials/assembly_qc/basic_stats/ERR10479518_contigs_GC_content_plot.pdf\n",
      "  Drawing ERR10479519_contigs GC content plot...\n",
      "    saved to /home/jupyter-mdprieto/tutorials/assembly_qc/basic_stats/ERR10479519_contigs_GC_content_plot.pdf\n",
      "Done.\n",
      "\n",
      "2023-03-01 23:53:04\n",
      "Running Contig analyzer...\n",
      "  2  ERR10479511_contigs\n",
      "  1  ERR10479510_contigs\n",
      "  2  Logging to files /home/jupyter-mdprieto/tutorials/assembly_qc/contigs_reports/contigs_report_ERR10479511_contigs.stdout and contigs_report_ERR10479511_contigs.stderr...\n",
      "  2  Aligning contigs to the reference\n",
      "  1  Logging to files /home/jupyter-mdprieto/tutorials/assembly_qc/contigs_reports/contigs_report_ERR10479510_contigs.stdout and contigs_report_ERR10479510_contigs.stderr...\n",
      "  1  Aligning contigs to the reference\n",
      "  3  ERR10479512_contigs\n",
      "  3  Logging to files /home/jupyter-mdprieto/tutorials/assembly_qc/contigs_reports/contigs_report_ERR10479512_contigs.stdout and contigs_report_ERR10479512_contigs.stderr...\n",
      "  3  Aligning contigs to the reference\n",
      "  6  ERR10479515_contigs\n",
      "  7  ERR10479516_contigs\n",
      "  7  Logging to files /home/jupyter-mdprieto/tutorials/assembly_qc/contigs_reports/contigs_report_ERR10479516_contigs.stdout and contigs_report_ERR10479516_contigs.stderr...\n",
      "  5  ERR10479514_contigs\n",
      "  6  Logging to files /home/jupyter-mdprieto/tutorials/assembly_qc/contigs_reports/contigs_report_ERR10479515_contigs.stdout and contigs_report_ERR10479515_contigs.stderr...\n",
      "  7  Aligning contigs to the reference\n",
      "  6  Aligning contigs to the reference\n",
      "  8  ERR10479517_contigs\n",
      "  4  ERR10479513_contigs\n",
      "  5  Logging to files /home/jupyter-mdprieto/tutorials/assembly_qc/contigs_reports/contigs_report_ERR10479514_contigs.stdout and contigs_report_ERR10479514_contigs.stderr...\n",
      "  4  Logging to files /home/jupyter-mdprieto/tutorials/assembly_qc/contigs_reports/contigs_report_ERR10479513_contigs.stdout and contigs_report_ERR10479513_contigs.stderr...\n",
      "  8  Logging to files /home/jupyter-mdprieto/tutorials/assembly_qc/contigs_reports/contigs_report_ERR10479517_contigs.stdout and contigs_report_ERR10479517_contigs.stderr...\n",
      "  4  Aligning contigs to the reference\n",
      "  5  Aligning contigs to the reference\n",
      "  8  Aligning contigs to the reference\n",
      "  9  ERR10479518_contigs\n",
      "  9  Logging to files /home/jupyter-mdprieto/tutorials/assembly_qc/contigs_reports/contigs_report_ERR10479518_contigs.stdout and contigs_report_ERR10479518_contigs.stderr...\n",
      "  9  Aligning contigs to the reference\n",
      "  10 ERR10479519_contigs\n",
      "  10 Logging to files /home/jupyter-mdprieto/tutorials/assembly_qc/contigs_reports/contigs_report_ERR10479519_contigs.stdout and contigs_report_ERR10479519_contigs.stderr...\n",
      "  10 Aligning contigs to the reference\n",
      "  1  Analysis is finished.\n",
      "  9  Analysis is finished.\n",
      "  5  Analysis is finished.\n",
      "  10 Analysis is finished.\n",
      "  7  Analysis is finished.\n",
      "  2  Analysis is finished.\n",
      "  4  Analysis is finished.\n",
      "  8  Analysis is finished.\n",
      "  3  Analysis is finished.\n",
      "  6  Analysis is finished.\n",
      "  Creating total report...\n",
      "    saved to /home/jupyter-mdprieto/tutorials/assembly_qc/contigs_reports/misassemblies_report.txt, misassemblies_report.tsv, and misassemblies_report.tex\n",
      "  Transposed version of total report...\n",
      "    saved to /home/jupyter-mdprieto/tutorials/assembly_qc/contigs_reports/transposed_report_misassemblies.txt, transposed_report_misassemblies.tsv, and transposed_report_misassemblies.tex\n",
      "  Creating total report...\n",
      "    saved to /home/jupyter-mdprieto/tutorials/assembly_qc/contigs_reports/unaligned_report.txt, unaligned_report.tsv, and unaligned_report.tex\n",
      "  Drawing misassemblies by types plot...\n",
      "    saved to /home/jupyter-mdprieto/tutorials/assembly_qc/contigs_reports/misassemblies_plot.pdf\n",
      "  Drawing misassemblies FRCurve plot...\n",
      "    saved to /home/jupyter-mdprieto/tutorials/assembly_qc/contigs_reports/misassemblies_frcurve_plot.pdf\n",
      "Done.\n",
      "\n",
      "2023-03-01 23:53:08\n",
      "Running NA-NGA calculation...\n",
      "  1  ERR10479510_contigs, Largest alignment = 530321, NA50 = 97587, NGA50 = 108155, LA50 = 19, LGA50 = 15\n",
      "  2  ERR10479511_contigs, Largest alignment = 541064, NA50 = 74701, NGA50 = 85100, LA50 = 24, LGA50 = 19\n",
      "  3  ERR10479512_contigs, Largest alignment = 540763, NA50 = 97613, NGA50 = 108131, LA50 = 20, LGA50 = 16\n",
      "  4  ERR10479513_contigs, Largest alignment = 530321, NA50 = 94471, NGA50 = 100711, LA50 = 20, LGA50 = 16\n",
      "  5  ERR10479514_contigs, Largest alignment = 541065, NA50 = 81797, NGA50 = 101177, LA50 = 21, LGA50 = 16\n",
      "  6  ERR10479515_contigs, Largest alignment = 540310, NA50 = 92648, NGA50 = 100711, LA50 = 21, LGA50 = 17\n",
      "  7  ERR10479516_contigs, Largest alignment = 540607, NA50 = 96693, NGA50 = 100862, LA50 = 21, LGA50 = 17\n",
      "  8  ERR10479517_contigs, Largest alignment = 541049, NA50 = 96693, NGA50 = 112939, LA50 = 20, LGA50 = 16\n",
      "  9  ERR10479518_contigs, Largest alignment = 540607, NA50 = 81797, NGA50 = 100408, LA50 = 24, LGA50 = 19\n",
      "  10 ERR10479519_contigs, Largest alignment = 540971, NA50 = 92647, NGA50 = 100862, LA50 = 20, LGA50 = 16\n",
      "  Drawing cumulative plot...\n",
      "    saved to /home/jupyter-mdprieto/tutorials/assembly_qc/aligned_stats/cumulative_plot.pdf\n",
      "  Drawing NAx plot...\n",
      "    saved to /home/jupyter-mdprieto/tutorials/assembly_qc/aligned_stats/NAx_plot.pdf\n",
      "  Drawing NGAx plot...\n",
      "    saved to /home/jupyter-mdprieto/tutorials/assembly_qc/aligned_stats/NGAx_plot.pdf\n",
      "Done.\n",
      "\n",
      "2023-03-01 23:53:10\n",
      "Running Genome analyzer...\n",
      "  NOTICE: No file with operons were provided. Use the -O option if you want to specify it.\n",
      "  Loaded 12015 genomic features of type \"ANY\"\n",
      "  1  ERR10479510_contigs\n",
      "  2  ERR10479511_contigs\n",
      "  3  ERR10479512_contigs\n",
      "  4  ERR10479513_contigs\n",
      "  5  ERR10479514_contigs\n",
      "  6  ERR10479515_contigs\n",
      "  7  ERR10479516_contigs\n",
      "  8  ERR10479517_contigs\n",
      "  9  ERR10479518_contigs\n",
      "  10 ERR10479519_contigs\n",
      "  1  Analysis is finished.\n",
      "  2  Analysis is finished.\n",
      "  3  Analysis is finished.\n",
      "  4  Analysis is finished.\n",
      "  5  Analysis is finished.\n",
      "  6  Analysis is finished.\n",
      "  7  Analysis is finished.\n",
      "  8  Analysis is finished.\n",
      "  9  Analysis is finished.\n",
      "  10 Analysis is finished.\n",
      "  Drawing genomic features cumulative plot...\n",
      "    saved to /home/jupyter-mdprieto/tutorials/assembly_qc/genome_stats/features_cumulative_plot.pdf\n",
      "  Drawing genomic features FRCurve plot...\n",
      "    saved to /home/jupyter-mdprieto/tutorials/assembly_qc/genome_stats/features_frcurve_plot.pdf\n",
      "  Drawing # complete genomic features histogram...\n",
      "    saved to /home/jupyter-mdprieto/tutorials/assembly_qc/genome_stats/complete_features_histogram.pdf\n",
      "  Drawing Genome fraction, % histogram...\n",
      "    saved to /home/jupyter-mdprieto/tutorials/assembly_qc/genome_stats/genome_fraction_histogram.pdf\n",
      "Done.\n",
      "\n",
      "NOTICE: Genes are not predicted by default. Use --gene-finding or --glimmer option to enable it.\n",
      "\n",
      "2023-03-01 23:53:16\n",
      "Creating large visual summaries...\n",
      "This may take a while: press Ctrl-C to skip this step..\n",
      "  1 of 2: Creating Icarus viewers...\n",
      "  2 of 2: Creating PDF with all tables and plots...\n",
      "Done\n",
      "\n",
      "2023-03-01 23:53:23\n",
      "RESULTS:\n",
      "  Text versions of total report are saved to /home/jupyter-mdprieto/tutorials/assembly_qc/report.txt, report.tsv, and report.tex\n",
      "  Text versions of transposed total report are saved to /home/jupyter-mdprieto/tutorials/assembly_qc/transposed_report.txt, transposed_report.tsv, and transposed_report.tex\n",
      "  HTML version (interactive tables and plots) is saved to /home/jupyter-mdprieto/tutorials/assembly_qc/report.html\n",
      "  PDF version (tables and plots) is saved to /home/jupyter-mdprieto/tutorials/assembly_qc/report.pdf\n",
      "  Icarus (contig browser) is saved to /home/jupyter-mdprieto/tutorials/assembly_qc/icarus.html\n",
      "  Log is saved to /home/jupyter-mdprieto/tutorials/assembly_qc/quast.log\n",
      "\n",
      "Finished: 2023-03-01 23:53:23\n",
      "Elapsed time: 0:01:27.664705\n",
      "NOTICEs: 2; WARNINGs: 0; non-fatal ERRORs: 0\n",
      "\n",
      "Thank you for using QUAST!\n"
     ]
    }
   ],
   "source": [
    "quast.py \"$CONTIGS_DIR/*contigs.fa\"                                             `# pattern for contig files produced by shovill` \\\n",
    "    -r /home/jupyter-mdprieto/tools/GCF_000006765.1_ASM676v1_genomic.fna.gz     `# reference genome` \\\n",
    "    -g /home/jupyter-mdprieto/tools/GCF_000006765.1_ASM676v1_genomic.gff.gz     `# reference genomic features positions` \\\n",
    "    -o $ASSEMBLY_QUAST                                                          `# output directory` \\\n",
    "    --threads 12"
   ]
  },
  {
   "cell_type": "markdown",
   "id": "7f801be8-1205-4306-b03a-6f6d7e29c5aa",
   "metadata": {},
   "source": [
    "Quast provides several summaries of quality in formats such as `.pdf, .html, and .csv`. \n",
    "\n",
    "We can preview metrics such as the N50 of the assemblies and the coverage of the reference genome using the commands below. "
   ]
  },
  {
   "cell_type": "code",
   "execution_count": 36,
   "id": "8ca9fb58-07ab-4900-a529-03a3e1500e25",
   "metadata": {},
   "outputs": [
    {
     "name": "stdout",
     "output_type": "stream",
     "text": [
      "\u001b[0m\u001b[01;34maligned_stats\u001b[0m    \u001b[01;34mgenome_stats\u001b[0m    quast.log    report.tex  transposed_report.tex\n",
      "\u001b[01;34mbasic_stats\u001b[0m      icarus.html     report.html  report.tsv  transposed_report.tsv\n",
      "\u001b[01;34mcontigs_reports\u001b[0m  \u001b[01;34micarus_viewers\u001b[0m  report.pdf   report.txt  transposed_report.txt\n",
      "\n",
      "Assembly\tERR10479510_contigs\tERR10479511_contigs\tERR10479512_contigs\tERR10479513_contigs\tERR10479514_contigs\tERR10479515_contigs\tERR10479516_contigs\tERR10479517_contigs\tERR10479518_contigs\tERR10479519_contigs\n",
      "N50\t221997\t184817\t226997\t223675\t216284\t226489\t215154\t223643\t223542\t223542\n",
      "Genome fraction (%)\t95.402\t95.397\t95.458\t95.500\t95.476\t95.507\t95.554\t95.484\t95.515\t95.390\n"
     ]
    }
   ],
   "source": [
    "ls $HOME/tutorials/assembly_quast/\n",
    "\n",
    "# overview of N50 and coverage\n",
    "echo\n",
    "cat $HOME/tutorials/assembly_quast/report.tsv | grep -E 'Assembly|N50|fraction'"
   ]
  },
  {
   "cell_type": "markdown",
   "id": "bf0a1ad4-5abf-48b9-bea4-3d496ff19bb8",
   "metadata": {
    "tags": []
   },
   "source": [
    "## CheckM\n"
   ]
  },
  {
   "cell_type": "markdown",
   "id": "17902515-d95e-454f-845f-67491e1f046c",
   "metadata": {},
   "source": [
    "**CheckM** infers the quality of the genome assembly based on the presence and uniqueness of sets of gene markers that are specific to species/taxa, and determines the completeness (coverage of reference genome) and the contamination of the input draft genomes.\n",
    "\n",
    "**CheckM** is not available in the CC cluster. So, we use a singularity container with the latest version.\n"
   ]
  },
  {
   "cell_type": "code",
   "execution_count": 35,
   "id": "a9e5158e-498e-4b56-93d3-8572efd23fa6",
   "metadata": {},
   "outputs": [],
   "source": [
    "# create ENV variable to input/output directory and singularity container for checkm\n",
    "CONTIGS_DIR='/home/jupyter-mdprieto/tutorials/contigs/'\n",
    "ASSEMBLY_CHECKM='/home/jupyter-mdprieto/tutorials/assembly_checkm/'\n",
    "IMG_CHECKM=\"/home/jupyter-mdprieto/tools/checkm_1.2.2.sif\""
   ]
  },
  {
   "cell_type": "markdown",
   "id": "0107f31e-d8ac-42ba-bf71-8c84b3f6921c",
   "metadata": {},
   "source": [
    "The first step is to create a dataset with specific genomic markers for a species, taxon or genus using `checkm taxon_set <species/genus/taxon> <taxon_name> <marker_file>`.\n",
    "Then, we \n"
   ]
  },
  {
   "cell_type": "code",
   "execution_count": 7,
   "id": "3bcd0c5d-9d12-4aa1-8283-44bd885667fa",
   "metadata": {
    "scrolled": true,
    "tags": []
   },
   "outputs": [
    {
     "name": "stdout",
     "output_type": "stream",
     "text": [
      "[2023-03-08 01:00:20] INFO: CheckM v1.2.2\n",
      "[2023-03-08 01:00:20] INFO: checkm taxon_set species Pseudomonas aeruginosa /home/jupyter-mdprieto/tools/pseudomonas.ms\n",
      "[2023-03-08 01:00:20] INFO: CheckM data: /usr/local/checkm_data\n",
      "[2023-03-08 01:00:20] INFO: [CheckM - taxon_set] Generate taxonomic-specific marker set.\n",
      "[2023-03-08 01:00:25] INFO: Marker set for Pseudomonas aeruginosa contains 1617 marker genes arranged in 469 sets.\n",
      "[2023-03-08 01:00:25] INFO: Marker set inferred from 19 reference genomes.\n",
      "[2023-03-08 01:00:25] INFO: Marker set for Pseudomonas contains 833 marker genes arranged in 312 sets.\n",
      "[2023-03-08 01:00:25] INFO: Marker set inferred from 182 reference genomes.\n",
      "[2023-03-08 01:00:25] INFO: Marker set for Pseudomonadaceae contains 800 marker genes arranged in 302 sets.\n",
      "[2023-03-08 01:00:25] INFO: Marker set inferred from 186 reference genomes.\n",
      "[2023-03-08 01:00:25] INFO: Marker set for Pseudomonadales contains 549 marker genes arranged in 326 sets.\n",
      "[2023-03-08 01:00:25] INFO: Marker set inferred from 274 reference genomes.\n",
      "[2023-03-08 01:00:25] INFO: Marker set for Gammaproteobacteria contains 280 marker genes arranged in 178 sets.\n",
      "[2023-03-08 01:00:25] INFO: Marker set inferred from 1167 reference genomes.\n",
      "[2023-03-08 01:00:25] INFO: Marker set for Proteobacteria contains 182 marker genes arranged in 119 sets.\n",
      "[2023-03-08 01:00:25] INFO: Marker set inferred from 2343 reference genomes.\n",
      "[2023-03-08 01:00:25] INFO: Marker set for Bacteria contains 104 marker genes arranged in 58 sets.\n",
      "[2023-03-08 01:00:25] INFO: Marker set inferred from 5449 reference genomes.\n",
      "[2023-03-08 01:00:25] INFO: Marker set written to: /home/jupyter-mdprieto/tools/pseudomonas.ms\n",
      "[2023-03-08 01:00:25] INFO: { Current stage: 0:00:04.731 || Total: 0:00:04.731 }\n"
     ]
    }
   ],
   "source": [
    "singularity exec \"$IMG_CHECKM\" checkm \\\n",
    "    taxon_set species 'Pseudomonas aeruginosa' /home/jupyter-mdprieto/tools/pseudomonas.ms"
   ]
  },
  {
   "cell_type": "markdown",
   "id": "460af426-1022-4e98-a6ce-a1c1c91ffa2b",
   "metadata": {},
   "source": [
    "With the reference markers file created in our tools directory, we perform two additional steps:\n",
    "- Using `checkm analysis` we identify what marker sets that are specific to a taxon are included in every assembly\n",
    "- Then, with `checkm qa` we produce a summary of contamination and \n",
    "\n",
    "The process for the samples used in the tutorial (n = 10) should take around 10-15 min. "
   ]
  },
  {
   "cell_type": "code",
   "execution_count": 11,
   "id": "0a1728b0-af61-4b2c-97ac-9b1e8ccd849a",
   "metadata": {
    "scrolled": true,
    "tags": []
   },
   "outputs": [
    {
     "name": "stdout",
     "output_type": "stream",
     "text": [
      "[2023-03-08 01:18:31] INFO: CheckM v1.2.2\n",
      "[2023-03-08 01:18:31] INFO: checkm analyze /home/jupyter-mdprieto/tools/pseudomonas.ms /home/jupyter-mdprieto/tutorials/assemblies/ /home/jupyter-mdprieto/tutorials/assembly_checkm/ -x fa -t 8\n",
      "[2023-03-08 01:18:31] INFO: CheckM data: /usr/local/checkm_data\n",
      "[2023-03-08 01:18:31] INFO: [CheckM - analyze] Identifying marker genes in bins.\n",
      "[2023-03-08 01:18:32] INFO: Identifying marker genes in 10 bins with 8 threads:\n",
      "    Finished processing 10 of 10 (100.00%) bins.\n",
      "[2023-03-08 01:27:11] INFO: Saving HMM info to file.\n",
      "[2023-03-08 01:27:12] INFO: { Current stage: 0:08:41.168 || Total: 0:08:41.168 }\n",
      "[2023-03-08 01:27:12] INFO: Parsing HMM hits to marker genes:\n",
      "    Finished parsing hits for 10 of 10 (100.00%) bins.\n",
      "[2023-03-08 01:27:19] INFO: Aligning marker genes with multiple hits in a single bin:\n",
      "    Finished processing 10 of 10 (100.00%) bins.\n",
      "[2023-03-08 01:27:21] INFO: { Current stage: 0:00:08.632 || Total: 0:08:49.800 }\n",
      "[2023-03-08 01:27:21] INFO: Calculating genome statistics for 10 bins with 8 threads:\n",
      "    Finished processing 10 of 10 (100.00%) bins.\n",
      "[2023-03-08 01:27:21] INFO: { Current stage: 0:00:00.512 || Total: 0:08:50.313 }\n"
     ]
    }
   ],
   "source": [
    "# analyze presence of markers \n",
    "singularity exec \"$IMG_CHECKM\" checkm analyze \\\n",
    "    /home/jupyter-mdprieto/tools/pseudomonas.ms         `#file with checkm marker set for assemblies` \\\n",
    "    \"$CONTIGS_DIR\"                                      `#dir with assemblies in fasta format` \\\n",
    "    \"$ASSEMBLY_CHECKM\"                                  `#output directory` \\\n",
    "    -x fa                                               `#extension of assemblies` \\\n",
    "    -t 8 \n",
    "    \n",
    "# produce table of contaminations\n",
    "singularity exec \"$IMG_CHECKM\" checkm qa \\\n",
    "        /home/jupyter-mdprieto/tools/pseudomonas.ms     `#file with checkm marker set for assemblies` \\\n",
    "        \"$ASSEMBLY_CHECKM\"                              `#output directory` \\\n",
    "        --file \"$ASSEMBLY_CHECKM/checkm_output.tsv\" \\\n",
    "        --tab_table                                     `# print tabular output` \\\n",
    "        --threads 8                                     `# number of simultaneous threads for process` \\\n",
    "        --out_format 1                                 `# format of output 1 = summary, 2 = extended`"
   ]
  },
  {
   "cell_type": "markdown",
   "id": "bcd13edd-e924-4e26-870e-3bfcf856051f",
   "metadata": {
    "jupyter": {
     "outputs_hidden": true
    },
    "tags": []
   },
   "source": [
    "Now, we can review the output of results for contamination using **CheckM**. \n",
    "\n",
    "*Completeness* is a measure of the coverage of gene marker sets spected for a species in a given contig. \n",
    "*Contamination* shows the presence of multi-copy marker genes in the genome assembly. \n",
    "*Strain heterogeneity* is determined by the number of multy-copy gene marker sets that have an amino acid identity >=  90%. A high heterogeneity suggests that a majority of the contamination comes from closely related organisms. A smaller value may come from phylogenetically distinct sources"
   ]
  },
  {
   "cell_type": "code",
   "execution_count": 40,
   "id": "0ac32a13-2121-4bcd-a12b-0265958f3e76",
   "metadata": {},
   "outputs": [
    {
     "name": "stdout",
     "output_type": "stream",
     "text": [
      "Bin Id\tMarker lineage\t# genomes\t# markers\t# marker sets\t0\t1\t2\t3\t4\t5+\tCompleteness\tContamination\tStrain heterogeneity\n",
      "ERR10479510_contigs\tPseudomonas aeruginosa (6)\t19\t1617\t469\t3\t1601\t13\t0\t0\t0\t99.86\t1.56\t7.69\n",
      "ERR10479511_contigs\tPseudomonas aeruginosa (6)\t19\t1617\t469\t4\t1600\t13\t0\t0\t0\t99.64\t1.56\t7.69\n",
      "ERR10479512_contigs\tPseudomonas aeruginosa (6)\t19\t1617\t469\t3\t1601\t13\t0\t0\t0\t99.86\t1.56\t7.69\n",
      "ERR10479513_contigs\tPseudomonas aeruginosa (6)\t19\t1617\t469\t3\t1602\t12\t0\t0\t0\t99.86\t1.45\t8.33\n",
      "ERR10479514_contigs\tPseudomonas aeruginosa (6)\t19\t1617\t469\t3\t1601\t13\t0\t0\t0\t99.86\t1.56\t7.69\n",
      "ERR10479515_contigs\tPseudomonas aeruginosa (6)\t19\t1617\t469\t3\t1601\t13\t0\t0\t0\t99.86\t1.56\t7.69\n",
      "ERR10479516_contigs\tPseudomonas aeruginosa (6)\t19\t1617\t469\t3\t1601\t13\t0\t0\t0\t99.86\t1.56\t7.69\n",
      "ERR10479517_contigs\tPseudomonas aeruginosa (6)\t19\t1617\t469\t3\t1601\t13\t0\t0\t0\t99.86\t1.56\t7.69\n",
      "ERR10479518_contigs\tPseudomonas aeruginosa (6)\t19\t1617\t469\t3\t1599\t14\t1\t0\t0\t99.86\t2.03\t5.88\n",
      "ERR10479519_contigs\tPseudomonas aeruginosa (6)\t19\t1617\t469\t3\t1601\t13\t0\t0\t0\t99.86\t1.56\t7.69\n"
     ]
    }
   ],
   "source": [
    "cat ~/tutorials/assembly_checkm/checkm_output.tsv"
   ]
  }
 ],
 "metadata": {
  "kernelspec": {
   "display_name": "Bash",
   "language": "bash",
   "name": "bash"
  },
  "language_info": {
   "codemirror_mode": "shell",
   "file_extension": ".sh",
   "mimetype": "text/x-sh",
   "name": "bash"
  }
 },
 "nbformat": 4,
 "nbformat_minor": 5
}
