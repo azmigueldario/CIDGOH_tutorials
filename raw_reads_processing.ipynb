{
 "cells": [
  {
   "attachments": {},
   "cell_type": "markdown",
   "id": "354ca6e6-eb53-4957-b4da-b6a7f2040991",
   "metadata": {},
   "source": [
    "# Introduction\n",
    "\n",
    "Throughout these tutorials we want to introduce some of the common tools used in our laboratory, the **Center for Infectious Disease Genomics and One Health**, for analysis of bacterial sequencing data. \n",
    "\n",
    "As bioinformatics  is a rapidly changing field, the pipelines and software used may change over time or become obsolete. New trainees will be in charge of reproducing the pipeline format and evaluating the content. Ideally, the tutorials will be updated and upgraded iteratively. "
   ]
  },
  {
   "attachments": {},
   "cell_type": "markdown",
   "id": "3447a239-25e7-4b7f-80ee-943955ae1d63",
   "metadata": {
    "tags": []
   },
   "source": [
    "# Handling of raw sequencing reads\n",
    "\n",
    "## Required tools\n",
    "\n",
    "After a sequencing experiment, the data is available as reads (representations of sections of nucleotides) and typically available in [fastq](https://en.wikipedia.org/wiki/FASTQ_format) format. The length of the reads and the quality of the assigned nucleotides depends largely on the processing steps and the technology used (Illumina, Nanopore, PacBio).\n",
    "\n",
    "Most of our analysis are done in a High Performance Computing cluster as most tools are resource intensive and performing analysis on your local computer would be too time consuming. The currently used cluster is **Compute Canada (CC cluster)**, you can login using the instructions available in the [wiki page for new users](https://docs.alliancecan.ca/wiki/SSH). \n",
    "\n",
    "In the **CC cluster**, there are several tools already available to be used as modules. This environment (computing system) has reproduced this setup and you can use a similar command to load software. `module load desired_software/version`\n",
    "\n",
    "Manually installing tools can create conflicts and errors. Thus, we will use containers (ready to use packages to run a software tool). Singularity containers are executed using the command `singularity run tool_image` or `singularity exec tool_image command`. There is no need to download said containers as they should be readily available once you connect to this server. \n",
    "\n",
    "Tools used in this section:\n",
    "- seqkit\n",
    "- fastqc\n",
    "- multiqc"
   ]
  },
  {
   "attachments": {},
   "cell_type": "markdown",
   "id": "84ee6e61",
   "metadata": {},
   "source": [
    "## Environment structure\n",
    "\n",
    "We will first explore the structure of our environment and the folders available. It is good practice to assign a directory (`tutorials`) to every project. Inside this main directory, we will create subdirectories with results, analysis instructions, and tools necessary for analysis.\n",
    "\n",
    "Every command can be explored using `command --help` for further details. "
   ]
  },
  {
   "cell_type": "code",
   "execution_count": 8,
   "id": "aa8e7199-91e4-42c7-a4ff-6d993e6d1aa8",
   "metadata": {
    "vscode": {
     "languageId": "shellscript"
    }
   },
   "outputs": [
    {
     "name": "stdout",
     "output_type": "stream",
     "text": [
      "/home/jupyter-mdprieto\n",
      "tutorials\n",
      "|-- raw_reads\n",
      "`-- tools\n",
      "    |-- reference_data\n",
      "    `-- sing_imgs\n",
      "\n",
      "4 directories\n"
     ]
    }
   ],
   "source": [
    "# change to home directory and print the PATH to it\n",
    "cd \n",
    "pwd -P\n",
    "\n",
    "# show what is available in home directory\n",
    "tree -L 2 -d tutorials\n",
    "\n",
    "# source PATH to use module function\n",
    "source /cvmfs/soft.computecanada.ca/config/profile/bash.sh"
   ]
  },
  {
   "attachments": {},
   "cell_type": "markdown",
   "id": "916d8964-9dc9-4ace-9491-1b7d3c3e0f3f",
   "metadata": {
    "tags": []
   },
   "source": [
    "## Exploring the data\n",
    "\n",
    "Datasets for this tutorial are availablein a shared folder inside the `tutorials` directory called `raw_reads`. These are Illumina technology short read sequences from a biorepository (75bp paired end reads). The isolates were cultured to investigate an outbreak of multidrug resistant _Pseudomonas aeruginosa_ in Switzerland [PMID:34412676](https://www.ncbi.nlm.nih.gov/pmc/articles/PMC8376114/). To make it faster and easier to run, we use a subset of 10 bacterial isolates. "
   ]
  },
  {
   "cell_type": "code",
   "execution_count": 9,
   "id": "e96367ca-ca0d-4e18-b1f1-40bb00ec9aa5",
   "metadata": {
    "vscode": {
     "languageId": "shellscript"
    }
   },
   "outputs": [
    {
     "name": "stdout",
     "output_type": "stream",
     "text": [
      "ERR10479510_R1.fastq.gz  ERR10479513_R2.fastq.gz  ERR10479517_R1.fastq.gz\n",
      "ERR10479510_R2.fastq.gz  ERR10479514_R1.fastq.gz  ERR10479517_R2.fastq.gz\n",
      "ERR10479511_R1.fastq.gz  ERR10479514_R2.fastq.gz  ERR10479518_R1.fastq.gz\n",
      "ERR10479511_R2.fastq.gz  ERR10479515_R1.fastq.gz  ERR10479518_R2.fastq.gz\n",
      "ERR10479512_R1.fastq.gz  ERR10479515_R2.fastq.gz  ERR10479519_R1.fastq.gz\n",
      "ERR10479512_R2.fastq.gz  ERR10479516_R1.fastq.gz  ERR10479519_R2.fastq.gz\n",
      "ERR10479513_R1.fastq.gz  ERR10479516_R2.fastq.gz\n"
     ]
    }
   ],
   "source": [
    "# show content of raw_reads directory\n",
    "ls /home/jupyter-mdprieto/tutorials/raw_reads"
   ]
  },
  {
   "attachments": {},
   "cell_type": "markdown",
   "id": "0c947fa3-6a3c-4b56-86eb-f3c3b1a07a1d",
   "metadata": {},
   "source": [
    "These reads are compressed (extension .gz), but most bioinformatic programs can receive `tar` or `gzip` files as input. To unzip, the command is \n",
    "\n",
    "    tar -zxf file(s)_to_decompress"
   ]
  },
  {
   "attachments": {},
   "cell_type": "markdown",
   "id": "515012ad-749f-4f0f-8db4-a36bba3a0427",
   "metadata": {},
   "source": [
    "The fastq files have the naming convention `_R1.fastq` or `_R2.fastq` for every isolate because we are using paired-end reads (segments of the DNA are analyzed from both ends, left and right). Other naming structures can be used to represent paired end reads (`_1.fastq, _R001.fastq`). "
   ]
  },
  {
   "attachments": {},
   "cell_type": "markdown",
   "id": "26f3c59f-2d7d-4fd2-81a5-9a21a19a04f8",
   "metadata": {
    "tags": []
   },
   "source": [
    "## Quality control\n",
    "\n",
    "It is a good practice to organize preliminary results in their own directory so you can trace back when necessary. You can also use github repositories to track all changes related to a project. \n",
    "\n",
    "We will create a new directory for output `tutorials/results` and another subdirectory for this particular step `tutorials/results/reads_qc`. \n",
    "\n",
    "<font color='darkred'>_**Notes for compute canada:**_ </font>  \n",
    "- Compute Canada provides different directories for storage. Jobs cannot be launched from the *HOME* and *PROJECT* directory or any of its subdirectories. The ideal place to run jobs is the *SCRATCH* folder, where you have short term storage of large amounts of data. \n",
    "- Once you have final results, these should be moved to your *PROJECT* directory as the *SCRATCH* folder is constantly being cleaned"
   ]
  },
  {
   "cell_type": "code",
   "execution_count": 12,
   "id": "f77ddec4-742e-4678-ba62-d23ff92d9f69",
   "metadata": {
    "vscode": {
     "languageId": "shellscript"
    }
   },
   "outputs": [
    {
     "name": "stdout",
     "output_type": "stream",
     "text": [
      "tutorials\n",
      "|-- raw_reads\n",
      "|-- results\n",
      "|   `-- reads_qc\n",
      "`-- tools\n",
      "    |-- reference_data\n",
      "    `-- sing_imgs\n",
      "\n",
      "6 directories\n"
     ]
    }
   ],
   "source": [
    "# creates new directory for results of QC \n",
    "mkdir -p $HOME/tutorials/results/reads_qc\n",
    "\n",
    "# show our new project structure\n",
    "tree -dL 2 tutorials"
   ]
  },
  {
   "attachments": {},
   "cell_type": "markdown",
   "id": "a3a6ce3d-9711-43f4-9350-22348740fd87",
   "metadata": {
    "tags": []
   },
   "source": [
    "### Basic statistics of reads with Seqkit \n",
    "\n",
    "***seqkit*** summarizes quality statistics (scores for each assigned nucleotide and length diversity) of all reads in a a folder into a text file. basic statistics from the **.fastq** files. "
   ]
  },
  {
   "cell_type": "code",
   "execution_count": 13,
   "id": "cd062d2e-81f5-4c70-bc3c-2963fc60015e",
   "metadata": {
    "vscode": {
     "languageId": "shellscript"
    }
   },
   "outputs": [
    {
     "name": "stdout",
     "output_type": "stream",
     "text": [
      "\n",
      "The following have been reloaded with a version change:\n",
      "  1) StdEnv/2016.4 => StdEnv/2020           4) intel/2016.4 => intel/2020.1.217\n",
      "  2) gcccore/.5.4.0 => gcccore/.9.3.0       5) mii/1.1.1 => mii/1.1.2\n",
      "  3) imkl/11.3.4.258 => imkl/2020.1.217     6) openmpi/2.1.1 => openmpi/4.0.3\n",
      "\n"
     ]
    }
   ],
   "source": [
    "# load seqkit parent module and seqkit to our computing environment\n",
    "module load StdEnv/2020 seqkit/2.3.1"
   ]
  },
  {
   "attachments": {},
   "cell_type": "markdown",
   "id": "cd3a1db4",
   "metadata": {},
   "source": [
    "In the command line, when we want to run a command that involves a file, we have to move to the specific directory and run the desired command or include the complete path to said file. \n",
    "\n",
    "To avoid extra typing, we can create variables (called environment variables) that store this path and reuse them sparingly. "
   ]
  },
  {
   "cell_type": "code",
   "execution_count": 14,
   "id": "2731658c-c3bf-4bed-a232-5cf5db7407bf",
   "metadata": {
    "vscode": {
     "languageId": "shellscript"
    }
   },
   "outputs": [],
   "source": [
    "# create environment variables to avoid typing PATHs every time\n",
    "INPUT_DIR=\"/home/jupyter-mdprieto/tutorials/raw_reads\"\n",
    "OUTPUT_QC=\"/home/jupyter-mdprieto/tutorials/results/reads_qc\""
   ]
  },
  {
   "attachments": {},
   "cell_type": "markdown",
   "id": "57581ffd-9b41-4467-8a5e-37c3e856a462",
   "metadata": {},
   "source": [
    "Then, we run `seqkit` command and preview the text file summarizes the results of the tool. The wait time for output should be around minute only as this is not a demanding process.  "
   ]
  },
  {
   "cell_type": "code",
   "execution_count": 15,
   "id": "a2104d57-6c43-4b81-b9b3-4befd047c623",
   "metadata": {
    "vscode": {
     "languageId": "shellscript"
    }
   },
   "outputs": [
    {
     "name": "stdout",
     "output_type": "stream",
     "text": [
      "file                                                                format  type   num_seqs      sum_len  min_len  avg_len  max_len\n",
      "/home/jupyter-mdprieto/tutorials/raw_reads/ERR10479510_R1.fastq.gz  FASTQ   DNA   1,673,279  386,900,145       35    231.2      251\n",
      "/home/jupyter-mdprieto/tutorials/raw_reads/ERR10479510_R2.fastq.gz  FASTQ   DNA   1,673,279  387,923,954       35    231.8      251\n",
      "/home/jupyter-mdprieto/tutorials/raw_reads/ERR10479511_R1.fastq.gz  FASTQ   DNA   1,344,257  305,517,801       35    227.3      251\n",
      "/home/jupyter-mdprieto/tutorials/raw_reads/ERR10479511_R2.fastq.gz  FASTQ   DNA   1,344,257  307,892,897       35      229      251\n",
      "/home/jupyter-mdprieto/tutorials/raw_reads/ERR10479512_R1.fastq.gz  FASTQ   DNA   2,091,662  453,818,911       35      217      251\n",
      "/home/jupyter-mdprieto/tutorials/raw_reads/ERR10479512_R2.fastq.gz  FASTQ   DNA   2,091,662  458,746,957       35    219.3      251\n",
      "/home/jupyter-mdprieto/tutorials/raw_reads/ERR10479513_R1.fastq.gz  FASTQ   DNA   1,760,582  401,372,696       35      228      251\n",
      "/home/jupyter-mdprieto/tutorials/raw_reads/ERR10479513_R2.fastq.gz  FASTQ   DNA   1,760,582  404,562,534       35    229.8      251\n",
      "/home/jupyter-mdprieto/tutorials/raw_reads/ERR10479514_R1.fastq.gz  FASTQ   DNA   1,451,481  307,147,920       35    211.6      251\n"
     ]
    }
   ],
   "source": [
    "# run sequence statistics\n",
    "seqkit stats $INPUT_DIR/*.fastq.gz > $OUTPUT_QC/seqkit_output.tsv\n",
    "\n",
    "# check results\n",
    "head $OUTPUT_QC/seqkit_output.tsv"
   ]
  },
  {
   "cell_type": "markdown",
   "id": "52292bc2-79a5-4ee9-9f79-02098ca3b1bd",
   "metadata": {},
   "source": [
    "### 2. fastqc\n",
    "\n",
    "We will use **fastqc**  to create additional metrics of sequencing including nucleotide distribution, presence of repeats, quality of base calling, GC content and adapter content  \n",
    "- I input all the files that have the suffix 'fastq.gz' from our reads directory and specify that 5 files will be processed simultaneously (-t 5). The processing should take around 3 minutes for this set of 10 samples. \n",
    "- **fastqc** produces an output summary in `zip` and `html` formats for every file entered\n"
   ]
  },
  {
   "cell_type": "code",
   "execution_count": null,
   "id": "d5c2f653-cd47-4b26-ae67-bd3bccb401c9",
   "metadata": {
    "vscode": {
     "languageId": "shellscript"
    }
   },
   "outputs": [],
   "source": [
    "# load the tool\n",
    "module load StdEnv/2020 fastqc/0.11.9"
   ]
  },
  {
   "cell_type": "code",
   "execution_count": null,
   "id": "1090a0b3-3c4f-47a0-84d1-0cdffb17e345",
   "metadata": {
    "vscode": {
     "languageId": "shellscript"
    }
   },
   "outputs": [],
   "source": [
    "fastqc $INPUT_DIR/*.fastq.gz \\\n",
    "    -o $OUTPUT_QC \\\n",
    "    -t 9 \\\n",
    "    --quiet\n",
    "    # output is saved as individual files in OUTPUT_DIR"
   ]
  },
  {
   "cell_type": "code",
   "execution_count": null,
   "id": "56a7f0e9-26d7-4f3b-a6ad-822bdb3c8c09",
   "metadata": {
    "vscode": {
     "languageId": "shellscript"
    }
   },
   "outputs": [],
   "source": [
    "# resulting files\n",
    "ls $OUTPUT_QC | head "
   ]
  },
  {
   "cell_type": "markdown",
   "id": "a8a2d7e8-1dcd-4e15-9336-e02f8e680cf0",
   "metadata": {},
   "source": [
    "### 3. Trimming reads with BBtools\n",
    "\n",
    "This step may not be necessary at all, as many genome assemblers are able to remove sequencing adapters from the raw reads before trying to produce a complete genome. In this step we remove the contaminant sequences (adapters) used to amplify the DNA while doing the sequencing experiments; we also remove any reads with poor quality over a moving window of 21 basepairs."
   ]
  },
  {
   "cell_type": "code",
   "execution_count": null,
   "id": "a3d246bb-cdcd-4529-9e93-af54e1f28702",
   "metadata": {
    "vscode": {
     "languageId": "shellscript"
    }
   },
   "outputs": [],
   "source": [
    "module load StdEnv/2020 bbmap/38.86"
   ]
  },
  {
   "cell_type": "markdown",
   "id": "f175453f-f02b-4295-8bb7-c006a5f55b75",
   "metadata": {},
   "source": [
    "The tool includes a text file with commonly used adaptor sequences for Illumina platform. We use this sequences in fasta format as a reference to match and clean our reads. The command we use is `bbduk.sh` and we add several options:\n",
    "\n",
    "- Specify PATHs to adapter sequences file and to output directory for trimmed reads\n",
    "- `k=23` specifies the size of the moving window for quality control of reads\n",
    "- `qtrim=6` removes regions with a score of quality below 6\n"
   ]
  },
  {
   "cell_type": "code",
   "execution_count": null,
   "id": "a264208d-19e2-4d4c-9cf7-37c67981c135",
   "metadata": {
    "vscode": {
     "languageId": "shellscript"
    }
   },
   "outputs": [],
   "source": [
    "for i in $(ls $INPUT_DIR/*_R1*)\n",
    "do\n",
    "R1=$(basename $i)\n",
    "R2=$(echo $R1 | sed 's/_R1/_R2/')\n",
    "bbduk.sh \\\n",
    "    in1=$INPUT_DIR/$R1 in2=$INPUT_DIR/$R2 \\\n",
    "    out1=$OUTPUT_TRIM/$R1 out2=$OUTPUT_TRIM/$R2 \\\n",
    "    ref=$adapters_file \\\n",
    "    k=23 \\\n",
    "    trimq=6 \\\n",
    "    tpe \\\n",
    "    tbo \\\n",
    "    threads=9\n",
    "done"
   ]
  },
  {
   "cell_type": "markdown",
   "id": "55d57a75-e748-440f-907d-e388c8933e56",
   "metadata": {},
   "source": [
    "### 4. Summarize with multiqc\n",
    "Finally, another tool (**multiqc**) takes all output summaries of **fastqc** in a directory and creates a nice single HTML output that can be visualized in any internet browser.\n",
    "The tool is available as a singularity container and can be called using `singularity exec PATH/IMAGE multiqc qc_directory`"
   ]
  },
  {
   "cell_type": "code",
   "execution_count": null,
   "id": "803fd80c-efc5-4845-9ad1-7148f0075c55",
   "metadata": {
    "vscode": {
     "languageId": "shellscript"
    }
   },
   "outputs": [],
   "source": [
    "singularity exec /home/jupyter-mdprieto/tools/multiqc_1.14.sif multiqc $OUTPUT_QC \\\n",
    "    -o $OUTPUT_QC"
   ]
  },
  {
   "cell_type": "code",
   "execution_count": null,
   "id": "7a2368c0-5882-44a9-b0f6-91522425f187",
   "metadata": {
    "vscode": {
     "languageId": "shellscript"
    }
   },
   "outputs": [],
   "source": [
    "## Reproduce the QC pipeline in Compute Canada"
   ]
  },
  {
   "cell_type": "markdown",
   "id": "5929e8bd-4344-42cb-96be-4351fed670b4",
   "metadata": {},
   "source": [
    "In compute canada, we run intensive commands as part of jobs. In a job, we specify how much memory and processing power we require and the system will automatically asign these values and run our specified commands. \n",
    "\n",
    "To do this, we save all of our commands and the instructions for the job in a text file. To do this, we open a text editor (`nano text_filename` or `vim text_filename`) and copy the following commands.\n",
    "Once the commands are written in the text, we save the file using **Ctrl+X** in `nano` or **Esc + ZZ** in `vim`"
   ]
  },
  {
   "cell_type": "markdown",
   "id": "73c6e8a9-f4c3-4ba3-b64b-4260ac717efa",
   "metadata": {},
   "source": [
    "```\n",
    "#!/bin/bash\n",
    "#SBATCH --account=rrg-whsiao-ab                    # compute canada PI allocation\n",
    "#SBATCH --mem=25gb                                 # 25 GB of memory\n",
    "#SBATCH --time=06:00:00                            # approximate time to complete all actions\n",
    "#SBATCH --job-name=\"quality_control\"               # name of job\n",
    "#SBATCH --chdir=/scratch/mdprieto/tutorials        # change to directory before start\n",
    "#SBATCH --cpus-per-task=9                          # number of threads, how many simultaneous tasks\n",
    "export OMP_NUM_THREADS=$SLURM_CPUS_PER_TASK\n",
    "\n",
    "################################ preparation ######################################\n",
    "\n",
    "# load necessary modules\n",
    "module load StdEnv/2020 bbmap/38.86 fastqc/0.11.9 seqkit/0.15.0 \n",
    "\n",
    "# create output directory\n",
    "mkdir -p /scratch/mdprieto/tutorials/qc_results\n",
    "\n",
    "# establish path for outputs and input\n",
    "adapters_file='/cvmfs/soft.computecanada.ca/easybuild/software/2020/Core/bbmap/38.86/resources/adapters.fa'\n",
    "OUTPUT_QC=\"/home/jupyter-mdprieto/tutorials/results_qc\"\n",
    "OUTPUT_TRIM=\"/home/jupyter-mdprieto/tutorials/trimmed_reads\"\n",
    "INPUT_DIR=\"/home/jupyter-mdprieto/tutorials/raw_reads\"\n",
    "\n",
    "################################## seqkit #########################################\n",
    "\n",
    "# run seqkit in fastq file and save output in tab separated file\n",
    "seqkit stats $INPUT_DIR/*.fastq.gz > $OUTPUT_QC/seqkit_output.tsv\n",
    "\n",
    "################################## fastqc #########################################\n",
    "\n",
    "# for all files in raw_reads directory\n",
    "fastqc $INPUT_DIR/*.fastq.gz \\\n",
    "    -o $OUTPUT_QC \\\n",
    "    -t 9 \\\n",
    "    --quiet\n",
    "\n",
    "################################## multiqc #########################################\n",
    "\n",
    "# execute from singularity\n",
    "singularity exec /home/jupyter-mdprieto/tools/multiqc_1.14.sif multiqc $OUTPUT_QC\n",
    "\n",
    "################################## trimming ########################################\n",
    "\n",
    "for i in $(ls $INPUT_DIR/*_R1*)\n",
    "do\n",
    "R1=$(basename $i)\n",
    "R2=$(echo $R1 | sed 's/_R1/_R2/')\n",
    "bbduk.sh \\\n",
    "    in1=$INPUT_DIR/$R1 in2=$INPUT_DIR/$R2 \\\n",
    "    out1=$OUTPUT_TRIM/$R1 out2=$OUTPUT_TRIM/$R2 \\\n",
    "    ref=$adapters_file \\\n",
    "    k=23 trimq=6 tpe tbo \\\n",
    "    threads=9\n",
    "done\n",
    "\n",
    "```"
   ]
  },
  {
   "cell_type": "markdown",
   "id": "462e363f-a5c8-4b02-b313-c8e915bb9099",
   "metadata": {},
   "source": [
    "<font color='darkred'>_**Notes for compute canada:**_ </font>  \n",
    "Our pipeline for quality control of raw reads includes several steps:\n",
    "\n",
    "1. We use the ***seqkit*** tool to obtain basic statistics from the **.fastq** files. The module to load **seqkit** is available in CC, so it can be load using `module load`. \n",
    "    - The tool takes `fastq` files as inputs and produces a txt output \n",
    "2. We will use **fastqc** which is also available as a module in ComputeCanada. The tool creates an overall summary of different metrics of sequencing including nucleotide distribution, presence of repeats, quality of base calling, GC content and adapter content\n",
    "    - **fastqc** produces an output summary for every file entered\n",
    "3. Another tool (**multiqc**) takes all output summaries of **fastqc** in a directory and creates a nice single HTML output that can be visualized in any web browser.\n",
    "    - Not available in Compute Canada, so we use a singularity container to execute it\n",
    "4. To have reads ready for assembly, I trimm or remove any PCR adaptors, barcodes or poor quality regions using **BBtools**\n",
    "    \n",
    "\n",
    "To make it easier to reproduce, we will open a text file with editor `nano` and save the following code."
   ]
  }
 ],
 "metadata": {
  "kernelspec": {
   "display_name": "Bash",
   "language": "bash",
   "name": "bash"
  },
  "language_info": {
   "codemirror_mode": "shell",
   "file_extension": ".sh",
   "mimetype": "text/x-sh",
   "name": "bash"
  }
 },
 "nbformat": 4,
 "nbformat_minor": 5
}
